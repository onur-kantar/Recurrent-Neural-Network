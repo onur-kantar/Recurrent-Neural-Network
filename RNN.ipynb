{
  "nbformat": 4,
  "nbformat_minor": 0,
  "metadata": {
    "colab": {
      "name": "RNN.ipynb",
      "provenance": [],
      "collapsed_sections": [],
      "toc_visible": true
    },
    "kernelspec": {
      "name": "python3",
      "display_name": "Python 3"
    }
  },
  "cells": [
    {
      "cell_type": "markdown",
      "metadata": {
        "id": "xjgXe3-qhVKP",
        "colab_type": "text"
      },
      "source": [
        "# Ön Bilgi\n",
        "**Geliştiren :** Onur Kantar - Ömer Resul Ertan\n",
        "\n",
        "**Veri Kümesinin İçeriği :** 3 farklı sınıfa ait toplamda 3000 tweet bulunmaktadır.\n",
        "\n",
        "**Tweet Sınıfları :** \n",
        "\n",
        "-\tOlumlu Tweetler\n",
        "-\tOlumsuz Tweetler\n",
        "-\tNötr Tweetler\n",
        "\n",
        "**Veri Kümesi Referansı :** \"Eğiticili ve Geleneksel Terim Ağırlıklandırma Yöntemleriyle Duygu Analizi\", Mahmut Çetin, M.Fatih Amasyalı, SIU 2013, KKTC\n",
        "\n",
        "**Algoritma :** Decision Tree (DT)\n",
        "\n",
        "**Ağ Mimarisi :** \n",
        "\n",
        "\n",
        "**batch_size :** \n",
        "\n",
        "**epochs :** \n",
        "\n",
        "**Doğruluk Oranı :** %100\n",
        "\n",
        "\n",
        "---\n",
        "\n"
      ]
    },
    {
      "cell_type": "code",
      "metadata": {
        "id": "vVlVvRTAiXd3",
        "colab_type": "code",
        "colab": {
          "base_uri": "https://localhost:8080/",
          "height": 87
        },
        "outputId": "fb3871db-70be-4cfe-bbb5-2720ac55bdde"
      },
      "source": [
        "import pandas as pd                     \n",
        "import re\n",
        "import nltk\n",
        "from nltk.corpus import stopwords\n",
        "import seaborn as sns\n",
        "from sklearn import preprocessing\n",
        "from sklearn.preprocessing import StandardScaler\n",
        "from keras.utils import to_categorical\n",
        "from sklearn.model_selection import train_test_split\n",
        "from keras.preprocessing.text import Tokenizer\n",
        "from keras.preprocessing.sequence import pad_sequences\n",
        "from sklearn.tree import DecisionTreeClassifier\n",
        "from sklearn.metrics import accuracy_score\n",
        "import numpy as np\n",
        "from sklearn.metrics import confusion_matrix\n",
        "from mlxtend.plotting import plot_confusion_matrix\n"
      ],
      "execution_count": 1,
      "outputs": [
        {
          "output_type": "stream",
          "text": [
            "/usr/local/lib/python3.6/dist-packages/statsmodels/tools/_testing.py:19: FutureWarning: pandas.util.testing is deprecated. Use the functions in the public API at pandas.testing instead.\n",
            "  import pandas.util.testing as tm\n",
            "Using TensorFlow backend.\n"
          ],
          "name": "stderr"
        }
      ]
    },
    {
      "cell_type": "code",
      "metadata": {
        "id": "i2Wvf_77gEyv",
        "colab_type": "code",
        "colab": {
          "base_uri": "https://localhost:8080/",
          "height": 402
        },
        "outputId": "a614772c-c40c-4e2f-d8d5-611d86ea88ee"
      },
      "source": [
        "tweets = pd.read_csv(\"/content/drive/My Drive/Colab Notebooks/Data Sets/iphone.csv\", sep=',')\n",
        "tweets"
      ],
      "execution_count": 2,
      "outputs": [
        {
          "output_type": "execute_result",
          "data": {
            "text/html": [
              "<div>\n",
              "<style scoped>\n",
              "    .dataframe tbody tr th:only-of-type {\n",
              "        vertical-align: middle;\n",
              "    }\n",
              "\n",
              "    .dataframe tbody tr th {\n",
              "        vertical-align: top;\n",
              "    }\n",
              "\n",
              "    .dataframe thead th {\n",
              "        text-align: right;\n",
              "    }\n",
              "</style>\n",
              "<table border=\"1\" class=\"dataframe\">\n",
              "  <thead>\n",
              "    <tr style=\"text-align: right;\">\n",
              "      <th></th>\n",
              "      <th>TWEET</th>\n",
              "      <th>CLASS</th>\n",
              "    </tr>\n",
              "  </thead>\n",
              "  <tbody>\n",
              "    <tr>\n",
              "      <th>0</th>\n",
              "      <td>loving my new #iphone6</td>\n",
              "      <td>1</td>\n",
              "    </tr>\n",
              "    <tr>\n",
              "      <th>1</th>\n",
              "      <td>iphone 6 + in full effect at tag all day; ever...</td>\n",
              "      <td>1</td>\n",
              "    </tr>\n",
              "    <tr>\n",
              "      <th>2</th>\n",
              "      <td>#win an #iphone6 sweepstakes http://t.co/r7mya...</td>\n",
              "      <td>1</td>\n",
              "    </tr>\n",
              "    <tr>\n",
              "      <th>3</th>\n",
              "      <td>early morning i phone masters training!! #appl...</td>\n",
              "      <td>1</td>\n",
              "    </tr>\n",
              "    <tr>\n",
              "      <th>4</th>\n",
              "      <td>remote control iphone 6 http://t.co/nncexfdgf6...</td>\n",
              "      <td>-1</td>\n",
              "    </tr>\n",
              "    <tr>\n",
              "      <th>...</th>\n",
              "      <td>...</td>\n",
              "      <td>...</td>\n",
              "    </tr>\n",
              "    <tr>\n",
              "      <th>527</th>\n",
              "      <td>so i cracked my phones screen. #iphone6 #broke...</td>\n",
              "      <td>-1</td>\n",
              "    </tr>\n",
              "    <tr>\n",
              "      <th>528</th>\n",
              "      <td>@getrhinoshield any idea when will you ship th...</td>\n",
              "      <td>-1</td>\n",
              "    </tr>\n",
              "    <tr>\n",
              "      <th>529</th>\n",
              "      <td>like you got a iphone6 and a black in your mou...</td>\n",
              "      <td>1</td>\n",
              "    </tr>\n",
              "    <tr>\n",
              "      <th>530</th>\n",
              "      <td>i was due for an upgrade 2 months ago... why h...</td>\n",
              "      <td>-1</td>\n",
              "    </tr>\n",
              "    <tr>\n",
              "      <th>531</th>\n",
              "      <td>im team iphone6⃣ now 😊</td>\n",
              "      <td>1</td>\n",
              "    </tr>\n",
              "  </tbody>\n",
              "</table>\n",
              "<p>532 rows × 2 columns</p>\n",
              "</div>"
            ],
            "text/plain": [
              "                                                 TWEET  CLASS\n",
              "0                               loving my new #iphone6      1\n",
              "1    iphone 6 + in full effect at tag all day; ever...      1\n",
              "2    #win an #iphone6 sweepstakes http://t.co/r7mya...      1\n",
              "3    early morning i phone masters training!! #appl...      1\n",
              "4    remote control iphone 6 http://t.co/nncexfdgf6...     -1\n",
              "..                                                 ...    ...\n",
              "527  so i cracked my phones screen. #iphone6 #broke...     -1\n",
              "528  @getrhinoshield any idea when will you ship th...     -1\n",
              "529  like you got a iphone6 and a black in your mou...      1\n",
              "530  i was due for an upgrade 2 months ago... why h...     -1\n",
              "531                             im team iphone6⃣ now 😊      1\n",
              "\n",
              "[532 rows x 2 columns]"
            ]
          },
          "metadata": {
            "tags": []
          },
          "execution_count": 2
        }
      ]
    },
    {
      "cell_type": "markdown",
      "metadata": {
        "id": "zWB-sdU0Uumz",
        "colab_type": "text"
      },
      "source": [
        "# Veri Kümemizi Düzenleyelim : \n",
        "\n",
        "---\n",
        "\n"
      ]
    },
    {
      "cell_type": "markdown",
      "metadata": {
        "id": "cgwIsbnsU1nB",
        "colab_type": "text"
      },
      "source": [
        "### NULL Değerleri Silme İşlemi : "
      ]
    },
    {
      "cell_type": "code",
      "metadata": {
        "id": "4sgyQWIpU9KE",
        "colab_type": "code",
        "colab": {
          "base_uri": "https://localhost:8080/",
          "height": 67
        },
        "outputId": "bd2d05a5-c826-46fe-b469-2937dce85529"
      },
      "source": [
        "tweets.isnull().sum()"
      ],
      "execution_count": 3,
      "outputs": [
        {
          "output_type": "execute_result",
          "data": {
            "text/plain": [
              "TWEET    0\n",
              "CLASS    0\n",
              "dtype: int64"
            ]
          },
          "metadata": {
            "tags": []
          },
          "execution_count": 3
        }
      ]
    },
    {
      "cell_type": "code",
      "metadata": {
        "id": "AlCyAlwjU-Ga",
        "colab_type": "code",
        "colab": {
          "base_uri": "https://localhost:8080/",
          "height": 67
        },
        "outputId": "781ee63f-fd70-4509-d4cb-9ed18ceae9ed"
      },
      "source": [
        "tweets = tweets.dropna().reset_index(drop=True)\n",
        "tweets.isnull().sum()"
      ],
      "execution_count": 4,
      "outputs": [
        {
          "output_type": "execute_result",
          "data": {
            "text/plain": [
              "TWEET    0\n",
              "CLASS    0\n",
              "dtype: int64"
            ]
          },
          "metadata": {
            "tags": []
          },
          "execution_count": 4
        }
      ]
    },
    {
      "cell_type": "markdown",
      "metadata": {
        "id": "euHvgy8-VLQJ",
        "colab_type": "text"
      },
      "source": [
        "### Gereksiz Kelimeleri - Boşukları - İşaretleri Silme İşlemleri :  "
      ]
    },
    {
      "cell_type": "code",
      "metadata": {
        "id": "cubr8YyQU_yF",
        "colab_type": "code",
        "colab": {
          "base_uri": "https://localhost:8080/",
          "height": 1000
        },
        "outputId": "175d44e5-9f88-4a76-abcb-1430fcf8e957"
      },
      "source": [
        "nltk.download('stopwords')\n",
        "stop_word_list = stopwords.words('english')\n",
        "stop_word_list"
      ],
      "execution_count": 5,
      "outputs": [
        {
          "output_type": "stream",
          "text": [
            "[nltk_data] Downloading package stopwords to /root/nltk_data...\n",
            "[nltk_data]   Package stopwords is already up-to-date!\n"
          ],
          "name": "stdout"
        },
        {
          "output_type": "execute_result",
          "data": {
            "text/plain": [
              "['i',\n",
              " 'me',\n",
              " 'my',\n",
              " 'myself',\n",
              " 'we',\n",
              " 'our',\n",
              " 'ours',\n",
              " 'ourselves',\n",
              " 'you',\n",
              " \"you're\",\n",
              " \"you've\",\n",
              " \"you'll\",\n",
              " \"you'd\",\n",
              " 'your',\n",
              " 'yours',\n",
              " 'yourself',\n",
              " 'yourselves',\n",
              " 'he',\n",
              " 'him',\n",
              " 'his',\n",
              " 'himself',\n",
              " 'she',\n",
              " \"she's\",\n",
              " 'her',\n",
              " 'hers',\n",
              " 'herself',\n",
              " 'it',\n",
              " \"it's\",\n",
              " 'its',\n",
              " 'itself',\n",
              " 'they',\n",
              " 'them',\n",
              " 'their',\n",
              " 'theirs',\n",
              " 'themselves',\n",
              " 'what',\n",
              " 'which',\n",
              " 'who',\n",
              " 'whom',\n",
              " 'this',\n",
              " 'that',\n",
              " \"that'll\",\n",
              " 'these',\n",
              " 'those',\n",
              " 'am',\n",
              " 'is',\n",
              " 'are',\n",
              " 'was',\n",
              " 'were',\n",
              " 'be',\n",
              " 'been',\n",
              " 'being',\n",
              " 'have',\n",
              " 'has',\n",
              " 'had',\n",
              " 'having',\n",
              " 'do',\n",
              " 'does',\n",
              " 'did',\n",
              " 'doing',\n",
              " 'a',\n",
              " 'an',\n",
              " 'the',\n",
              " 'and',\n",
              " 'but',\n",
              " 'if',\n",
              " 'or',\n",
              " 'because',\n",
              " 'as',\n",
              " 'until',\n",
              " 'while',\n",
              " 'of',\n",
              " 'at',\n",
              " 'by',\n",
              " 'for',\n",
              " 'with',\n",
              " 'about',\n",
              " 'against',\n",
              " 'between',\n",
              " 'into',\n",
              " 'through',\n",
              " 'during',\n",
              " 'before',\n",
              " 'after',\n",
              " 'above',\n",
              " 'below',\n",
              " 'to',\n",
              " 'from',\n",
              " 'up',\n",
              " 'down',\n",
              " 'in',\n",
              " 'out',\n",
              " 'on',\n",
              " 'off',\n",
              " 'over',\n",
              " 'under',\n",
              " 'again',\n",
              " 'further',\n",
              " 'then',\n",
              " 'once',\n",
              " 'here',\n",
              " 'there',\n",
              " 'when',\n",
              " 'where',\n",
              " 'why',\n",
              " 'how',\n",
              " 'all',\n",
              " 'any',\n",
              " 'both',\n",
              " 'each',\n",
              " 'few',\n",
              " 'more',\n",
              " 'most',\n",
              " 'other',\n",
              " 'some',\n",
              " 'such',\n",
              " 'no',\n",
              " 'nor',\n",
              " 'not',\n",
              " 'only',\n",
              " 'own',\n",
              " 'same',\n",
              " 'so',\n",
              " 'than',\n",
              " 'too',\n",
              " 'very',\n",
              " 's',\n",
              " 't',\n",
              " 'can',\n",
              " 'will',\n",
              " 'just',\n",
              " 'don',\n",
              " \"don't\",\n",
              " 'should',\n",
              " \"should've\",\n",
              " 'now',\n",
              " 'd',\n",
              " 'll',\n",
              " 'm',\n",
              " 'o',\n",
              " 're',\n",
              " 've',\n",
              " 'y',\n",
              " 'ain',\n",
              " 'aren',\n",
              " \"aren't\",\n",
              " 'couldn',\n",
              " \"couldn't\",\n",
              " 'didn',\n",
              " \"didn't\",\n",
              " 'doesn',\n",
              " \"doesn't\",\n",
              " 'hadn',\n",
              " \"hadn't\",\n",
              " 'hasn',\n",
              " \"hasn't\",\n",
              " 'haven',\n",
              " \"haven't\",\n",
              " 'isn',\n",
              " \"isn't\",\n",
              " 'ma',\n",
              " 'mightn',\n",
              " \"mightn't\",\n",
              " 'mustn',\n",
              " \"mustn't\",\n",
              " 'needn',\n",
              " \"needn't\",\n",
              " 'shan',\n",
              " \"shan't\",\n",
              " 'shouldn',\n",
              " \"shouldn't\",\n",
              " 'wasn',\n",
              " \"wasn't\",\n",
              " 'weren',\n",
              " \"weren't\",\n",
              " 'won',\n",
              " \"won't\",\n",
              " 'wouldn',\n",
              " \"wouldn't\"]"
            ]
          },
          "metadata": {
            "tags": []
          },
          "execution_count": 5
        }
      ]
    },
    {
      "cell_type": "code",
      "metadata": {
        "id": "aJCqQS7_VP5r",
        "colab_type": "code",
        "colab": {}
      },
      "source": [
        "def preprocess_text(sen):\n",
        "    \n",
        "    # Sayıları Silme İşlemi\n",
        "    sentence = re.sub('[\\d\\s]', ' ', str(sen))\n",
        "\n",
        "    # URL Silme işlemi\n",
        "    sentence = re.sub(r\"http\\S+\", \"\", str(sentence))\n",
        "\n",
        "    # Noktalama İşaretlerini Silme İşlemi\n",
        "    sentence = re.sub('[^\\w\\s]', ' ', str(sentence))\n",
        "    \n",
        "    # Tek Karakterleri Silme İşlemi\n",
        "    sentence = re.sub(r\"\\b[\\w\\s]\\b\", ' ',str(sentence))\n",
        "    \n",
        "    # Birden Çok Boşluğu Silme İşlemi\n",
        "    sentence = re.sub(r'\\s+', ' ', sentence)\n",
        "        \n",
        "    # Engellenecek Kelimeleri Silme İşlemi\n",
        "    WPT = nltk.WordPunctTokenizer()\n",
        "    tokens = WPT.tokenize(sentence)\n",
        "    filtered_tokens = [token for token in tokens if token not in stop_word_list]\n",
        "    single_doc = ' '.join(filtered_tokens)\n",
        "    \n",
        "    # Tüm Harfler Küçük Harfe Dönüştürülüyor\n",
        "    return single_doc.lower()"
      ],
      "execution_count": 6,
      "outputs": []
    },
    {
      "cell_type": "code",
      "metadata": {
        "id": "VdYeNLeelrYy",
        "colab_type": "code",
        "colab": {}
      },
      "source": [
        "x = tweets['TWEET']\n",
        "y = tweets['CLASS']"
      ],
      "execution_count": 7,
      "outputs": []
    },
    {
      "cell_type": "code",
      "metadata": {
        "id": "s_xWMHOmlufm",
        "colab_type": "code",
        "colab": {
          "base_uri": "https://localhost:8080/",
          "height": 402
        },
        "outputId": "e69e5d22-9479-42dc-d5a3-4310752fdfa5"
      },
      "source": [
        "x = x.apply(preprocess_text)\n",
        "pd.DataFrame(data=x)"
      ],
      "execution_count": 8,
      "outputs": [
        {
          "output_type": "execute_result",
          "data": {
            "text/html": [
              "<div>\n",
              "<style scoped>\n",
              "    .dataframe tbody tr th:only-of-type {\n",
              "        vertical-align: middle;\n",
              "    }\n",
              "\n",
              "    .dataframe tbody tr th {\n",
              "        vertical-align: top;\n",
              "    }\n",
              "\n",
              "    .dataframe thead th {\n",
              "        text-align: right;\n",
              "    }\n",
              "</style>\n",
              "<table border=\"1\" class=\"dataframe\">\n",
              "  <thead>\n",
              "    <tr style=\"text-align: right;\">\n",
              "      <th></th>\n",
              "      <th>TWEET</th>\n",
              "    </tr>\n",
              "  </thead>\n",
              "  <tbody>\n",
              "    <tr>\n",
              "      <th>0</th>\n",
              "      <td>loving new iphone</td>\n",
              "    </tr>\n",
              "    <tr>\n",
              "      <th>1</th>\n",
              "      <td>iphone full effect tag day everyday maclife ap...</td>\n",
              "    </tr>\n",
              "    <tr>\n",
              "      <th>2</th>\n",
              "      <td>win iphone sweepstakes mya cexo</td>\n",
              "    </tr>\n",
              "    <tr>\n",
              "      <th>3</th>\n",
              "      <td>early morning phone masters training apple iphone</td>\n",
              "    </tr>\n",
              "    <tr>\n",
              "      <th>4</th>\n",
              "      <td>remote control iphone ios mobile apple iphone ...</td>\n",
              "    </tr>\n",
              "    <tr>\n",
              "      <th>...</th>\n",
              "      <td>...</td>\n",
              "    </tr>\n",
              "    <tr>\n",
              "      <th>527</th>\n",
              "      <td>cracked phones screen iphone brokenscreen sad ...</td>\n",
              "    </tr>\n",
              "    <tr>\n",
              "      <th>528</th>\n",
              "      <td>getrhinoshield idea ship order today broke iph...</td>\n",
              "    </tr>\n",
              "    <tr>\n",
              "      <th>529</th>\n",
              "      <td>like got iphone black mouth dont tell dont got...</td>\n",
              "    </tr>\n",
              "    <tr>\n",
              "      <th>530</th>\n",
              "      <td>due upgrade months ago gotten iphone</td>\n",
              "    </tr>\n",
              "    <tr>\n",
              "      <th>531</th>\n",
              "      <td>im team iphone</td>\n",
              "    </tr>\n",
              "  </tbody>\n",
              "</table>\n",
              "<p>532 rows × 1 columns</p>\n",
              "</div>"
            ],
            "text/plain": [
              "                                                 TWEET\n",
              "0                                    loving new iphone\n",
              "1    iphone full effect tag day everyday maclife ap...\n",
              "2                      win iphone sweepstakes mya cexo\n",
              "3    early morning phone masters training apple iphone\n",
              "4    remote control iphone ios mobile apple iphone ...\n",
              "..                                                 ...\n",
              "527  cracked phones screen iphone brokenscreen sad ...\n",
              "528  getrhinoshield idea ship order today broke iph...\n",
              "529  like got iphone black mouth dont tell dont got...\n",
              "530               due upgrade months ago gotten iphone\n",
              "531                                     im team iphone\n",
              "\n",
              "[532 rows x 1 columns]"
            ]
          },
          "metadata": {
            "tags": []
          },
          "execution_count": 8
        }
      ]
    },
    {
      "cell_type": "code",
      "metadata": {
        "id": "VK8zrmo2mdey",
        "colab_type": "code",
        "colab": {
          "base_uri": "https://localhost:8080/",
          "height": 296
        },
        "outputId": "4b001ffa-eff3-434f-aa09-87c3d283f33e"
      },
      "source": [
        "sns.countplot(y)"
      ],
      "execution_count": 9,
      "outputs": [
        {
          "output_type": "execute_result",
          "data": {
            "text/plain": [
              "<matplotlib.axes._subplots.AxesSubplot at 0x7fd3d82d7b70>"
            ]
          },
          "metadata": {
            "tags": []
          },
          "execution_count": 9
        },
        {
          "output_type": "display_data",
          "data": {
            "image/png": "[encoded data removed]",
            "text/plain": [
              "<Figure size 432x288 with 1 Axes>"
            ]
          },
          "metadata": {
            "tags": [],
            "needs_background": "light"
          }
        }
      ]
    },
    {
      "cell_type": "markdown",
      "metadata": {
        "id": "QYAWu8NNqPjV",
        "colab_type": "text"
      },
      "source": [
        "## Kelimeleri Sayılara Dönüştürelim : \n",
        "\n",
        "Veri setimizin işlenebilmesi için text verileri numaralara çevirmemiz gerekir.\n"
      ]
    },
    {
      "cell_type": "code",
      "metadata": {
        "id": "lCI2pvRzp8vh",
        "colab_type": "code",
        "colab": {}
      },
      "source": [
        "token = Tokenizer()\n",
        "# Her kelimenin sıklığını hesaplar\n",
        "token.fit_on_texts(x)\n",
        "# Tüm kelimeleri sayı dizisine dönüştürür\n",
        "x = token.texts_to_sequences(x)\n",
        "# Bütün metinlerimiz en uzun kelimeden oluşan metnimiz kadar sütundan oluşan (23) bir dizi ile temsil edilecek.\n",
        "# 23'den kısa metinlerin boşlukları 0'lar ile doldurulacak.\n",
        "x = pad_sequences(x)"
      ],
      "execution_count": 10,
      "outputs": []
    },
    {
      "cell_type": "code",
      "metadata": {
        "id": "-txDv2MwqVla",
        "colab_type": "code",
        "colab": {
          "base_uri": "https://localhost:8080/",
          "height": 195
        },
        "outputId": "5d21ac4d-2d8d-482e-8ec8-ca100e701005"
      },
      "source": [
        "pd.DataFrame(x).sample(5)"
      ],
      "execution_count": 11,
      "outputs": [
        {
          "output_type": "execute_result",
          "data": {
            "text/html": [
              "<div>\n",
              "<style scoped>\n",
              "    .dataframe tbody tr th:only-of-type {\n",
              "        vertical-align: middle;\n",
              "    }\n",
              "\n",
              "    .dataframe tbody tr th {\n",
              "        vertical-align: top;\n",
              "    }\n",
              "\n",
              "    .dataframe thead th {\n",
              "        text-align: right;\n",
              "    }\n",
              "</style>\n",
              "<table border=\"1\" class=\"dataframe\">\n",
              "  <thead>\n",
              "    <tr style=\"text-align: right;\">\n",
              "      <th></th>\n",
              "      <th>0</th>\n",
              "      <th>1</th>\n",
              "      <th>2</th>\n",
              "      <th>3</th>\n",
              "      <th>4</th>\n",
              "      <th>5</th>\n",
              "      <th>6</th>\n",
              "      <th>7</th>\n",
              "      <th>8</th>\n",
              "      <th>9</th>\n",
              "      <th>10</th>\n",
              "      <th>11</th>\n",
              "      <th>12</th>\n",
              "      <th>13</th>\n",
              "      <th>14</th>\n",
              "      <th>15</th>\n",
              "      <th>16</th>\n",
              "    </tr>\n",
              "  </thead>\n",
              "  <tbody>\n",
              "    <tr>\n",
              "      <th>94</th>\n",
              "      <td>0</td>\n",
              "      <td>0</td>\n",
              "      <td>0</td>\n",
              "      <td>0</td>\n",
              "      <td>0</td>\n",
              "      <td>0</td>\n",
              "      <td>0</td>\n",
              "      <td>0</td>\n",
              "      <td>0</td>\n",
              "      <td>0</td>\n",
              "      <td>0</td>\n",
              "      <td>0</td>\n",
              "      <td>15</td>\n",
              "      <td>6</td>\n",
              "      <td>4</td>\n",
              "      <td>3</td>\n",
              "      <td>1</td>\n",
              "    </tr>\n",
              "    <tr>\n",
              "      <th>205</th>\n",
              "      <td>0</td>\n",
              "      <td>0</td>\n",
              "      <td>0</td>\n",
              "      <td>0</td>\n",
              "      <td>0</td>\n",
              "      <td>0</td>\n",
              "      <td>0</td>\n",
              "      <td>0</td>\n",
              "      <td>188</td>\n",
              "      <td>129</td>\n",
              "      <td>427</td>\n",
              "      <td>7</td>\n",
              "      <td>11</td>\n",
              "      <td>1</td>\n",
              "      <td>80</td>\n",
              "      <td>103</td>\n",
              "      <td>414</td>\n",
              "    </tr>\n",
              "    <tr>\n",
              "      <th>436</th>\n",
              "      <td>0</td>\n",
              "      <td>0</td>\n",
              "      <td>0</td>\n",
              "      <td>0</td>\n",
              "      <td>0</td>\n",
              "      <td>0</td>\n",
              "      <td>1</td>\n",
              "      <td>507</td>\n",
              "      <td>508</td>\n",
              "      <td>1</td>\n",
              "      <td>33</td>\n",
              "      <td>509</td>\n",
              "      <td>34</td>\n",
              "      <td>144</td>\n",
              "      <td>73</td>\n",
              "      <td>157</td>\n",
              "      <td>74</td>\n",
              "    </tr>\n",
              "    <tr>\n",
              "      <th>125</th>\n",
              "      <td>0</td>\n",
              "      <td>0</td>\n",
              "      <td>0</td>\n",
              "      <td>0</td>\n",
              "      <td>0</td>\n",
              "      <td>0</td>\n",
              "      <td>0</td>\n",
              "      <td>0</td>\n",
              "      <td>0</td>\n",
              "      <td>212</td>\n",
              "      <td>331</td>\n",
              "      <td>862</td>\n",
              "      <td>1</td>\n",
              "      <td>51</td>\n",
              "      <td>82</td>\n",
              "      <td>863</td>\n",
              "      <td>864</td>\n",
              "    </tr>\n",
              "    <tr>\n",
              "      <th>117</th>\n",
              "      <td>0</td>\n",
              "      <td>0</td>\n",
              "      <td>0</td>\n",
              "      <td>0</td>\n",
              "      <td>0</td>\n",
              "      <td>0</td>\n",
              "      <td>0</td>\n",
              "      <td>0</td>\n",
              "      <td>0</td>\n",
              "      <td>0</td>\n",
              "      <td>0</td>\n",
              "      <td>0</td>\n",
              "      <td>0</td>\n",
              "      <td>152</td>\n",
              "      <td>7</td>\n",
              "      <td>847</td>\n",
              "      <td>1</td>\n",
              "    </tr>\n",
              "  </tbody>\n",
              "</table>\n",
              "</div>"
            ],
            "text/plain": [
              "     0  1  2  3  4  5  6    7    8    9   10   11  12   13  14   15   16\n",
              "94   0  0  0  0  0  0  0    0    0    0    0    0  15    6   4    3    1\n",
              "205  0  0  0  0  0  0  0    0  188  129  427    7  11    1  80  103  414\n",
              "436  0  0  0  0  0  0  1  507  508    1   33  509  34  144  73  157   74\n",
              "125  0  0  0  0  0  0  0    0    0  212  331  862   1   51  82  863  864\n",
              "117  0  0  0  0  0  0  0    0    0    0    0    0   0  152   7  847    1"
            ]
          },
          "metadata": {
            "tags": []
          },
          "execution_count": 11
        }
      ]
    },
    {
      "cell_type": "markdown",
      "metadata": {
        "id": "jrM52TTKqo0N",
        "colab_type": "text"
      },
      "source": [
        "## X Verilerimizi Ölçeklendirelim : \n",
        "\n",
        "**Verileri Ölçeklendirme Nedir?**\n",
        "\n",
        "Ölçeklendirme dediğimiz şey veri setindeki iki farklı özelliğin (değişkenin) değerlerini en doğru şekilde analiz edebilmemize olanak sağlayan bir yöntemdir.\n",
        "\n",
        "- Verilerinizin dağılımının ortalama değeri 0 ve standart sapma değeri 1 olacak şekilde değiştiriyoruz (Standartlaştırma).\n",
        "- Tutarlılık oluşuyor. Bir veri diğer verilerden daha büyükse diğerleri üzerinde egemenlik kurabilir. Bunu istemeyiz.\n",
        "- Bir öğrenme modeliyle çalışırken, özellikleri sıfır merkezli bir aralığa ölçeklemek önemlidir.\n",
        "- Değerleri karşılaştırmak yerine oranları karşılaştırmış oluruz.\n",
        "\n",
        "**Örnek :**\n",
        "\n",
        "İki farklı insan düşünelim. Bu insanların birisinin geliri ayda 5.000 Türk Lirası iken diğerinin geliri ayda 200.000 Türk Lirası olsun. Bu insanların ikisi de her ay belirli miktarda maddi yardım için maaşlarının bir kısmını ayırıyorlar. Diyelim ki 5.000 Türk Lirası maaşı olan şahıs 1.500 Türk Lirasını yardıma ayırıyorken, 200.000 Türk Lirası alan şahıs 10.000 Türk Lirasını yardım için ayırıyor.\n",
        "\n",
        "Normal bir gözle bakarsak 10.000 Türk Lirası yardımda bulunan kişinin daha fazla yardım yaptığını görürüz. Fakat bunu oranladığımızda 5.000 Türk Lirası alan kişinin oransal olarak kat kat fazla yardım yaptığı anlaşılacaktır. İşte özellik ölçeklendirme ile biz bu özelliklerin sayısal değerlerinin birbirine yakın olmasını sağlayıp aralarındaki değerleri karşılaştırmak yerine oranları karşılaştırırız."
      ]
    },
    {
      "cell_type": "code",
      "metadata": {
        "id": "SequOqXeqaPw",
        "colab_type": "code",
        "colab": {}
      },
      "source": [
        "scaler = StandardScaler()\n",
        "x = scaler.fit_transform(x)"
      ],
      "execution_count": 12,
      "outputs": []
    },
    {
      "cell_type": "code",
      "metadata": {
        "id": "YDFBhFeqq2XY",
        "colab_type": "code",
        "colab": {
          "base_uri": "https://localhost:8080/",
          "height": 215
        },
        "outputId": "8ef6e502-8dfb-4306-96a6-02c0233b1344"
      },
      "source": [
        "pd.DataFrame(x).sample(5)"
      ],
      "execution_count": 13,
      "outputs": [
        {
          "output_type": "execute_result",
          "data": {
            "text/html": [
              "<div>\n",
              "<style scoped>\n",
              "    .dataframe tbody tr th:only-of-type {\n",
              "        vertical-align: middle;\n",
              "    }\n",
              "\n",
              "    .dataframe tbody tr th {\n",
              "        vertical-align: top;\n",
              "    }\n",
              "\n",
              "    .dataframe thead th {\n",
              "        text-align: right;\n",
              "    }\n",
              "</style>\n",
              "<table border=\"1\" class=\"dataframe\">\n",
              "  <thead>\n",
              "    <tr style=\"text-align: right;\">\n",
              "      <th></th>\n",
              "      <th>0</th>\n",
              "      <th>1</th>\n",
              "      <th>2</th>\n",
              "      <th>3</th>\n",
              "      <th>4</th>\n",
              "      <th>5</th>\n",
              "      <th>6</th>\n",
              "      <th>7</th>\n",
              "      <th>8</th>\n",
              "      <th>9</th>\n",
              "      <th>10</th>\n",
              "      <th>11</th>\n",
              "      <th>12</th>\n",
              "      <th>13</th>\n",
              "      <th>14</th>\n",
              "      <th>15</th>\n",
              "      <th>16</th>\n",
              "    </tr>\n",
              "  </thead>\n",
              "  <tbody>\n",
              "    <tr>\n",
              "      <th>404</th>\n",
              "      <td>-0.053857</td>\n",
              "      <td>-0.091054</td>\n",
              "      <td>-0.132778</td>\n",
              "      <td>-0.214741</td>\n",
              "      <td>-0.272959</td>\n",
              "      <td>-0.292325</td>\n",
              "      <td>-0.374963</td>\n",
              "      <td>3.705889</td>\n",
              "      <td>-0.448751</td>\n",
              "      <td>-0.436756</td>\n",
              "      <td>0.700802</td>\n",
              "      <td>-0.490186</td>\n",
              "      <td>2.721387</td>\n",
              "      <td>-0.479272</td>\n",
              "      <td>2.294928</td>\n",
              "      <td>0.314650</td>\n",
              "      <td>2.009198</td>\n",
              "    </tr>\n",
              "    <tr>\n",
              "      <th>433</th>\n",
              "      <td>-0.053857</td>\n",
              "      <td>-0.091054</td>\n",
              "      <td>-0.132778</td>\n",
              "      <td>-0.214741</td>\n",
              "      <td>-0.272959</td>\n",
              "      <td>-0.292325</td>\n",
              "      <td>-0.374963</td>\n",
              "      <td>-0.436877</td>\n",
              "      <td>-0.451810</td>\n",
              "      <td>-0.502290</td>\n",
              "      <td>-0.546203</td>\n",
              "      <td>-0.539376</td>\n",
              "      <td>-0.215758</td>\n",
              "      <td>-0.504706</td>\n",
              "      <td>-0.622792</td>\n",
              "      <td>2.389900</td>\n",
              "      <td>-0.808899</td>\n",
              "    </tr>\n",
              "    <tr>\n",
              "      <th>282</th>\n",
              "      <td>-0.053857</td>\n",
              "      <td>-0.091054</td>\n",
              "      <td>-0.132778</td>\n",
              "      <td>-0.181649</td>\n",
              "      <td>4.594224</td>\n",
              "      <td>-0.288270</td>\n",
              "      <td>3.346736</td>\n",
              "      <td>-0.102257</td>\n",
              "      <td>3.140035</td>\n",
              "      <td>0.319618</td>\n",
              "      <td>0.610294</td>\n",
              "      <td>-0.262359</td>\n",
              "      <td>2.182791</td>\n",
              "      <td>2.027081</td>\n",
              "      <td>1.814715</td>\n",
              "      <td>1.771604</td>\n",
              "      <td>-0.034475</td>\n",
              "    </tr>\n",
              "    <tr>\n",
              "      <th>4</th>\n",
              "      <td>-0.053857</td>\n",
              "      <td>-0.091054</td>\n",
              "      <td>-0.132778</td>\n",
              "      <td>-0.214741</td>\n",
              "      <td>1.998670</td>\n",
              "      <td>1.929753</td>\n",
              "      <td>-0.371791</td>\n",
              "      <td>-0.348040</td>\n",
              "      <td>0.184564</td>\n",
              "      <td>-0.496829</td>\n",
              "      <td>-0.543689</td>\n",
              "      <td>-0.039710</td>\n",
              "      <td>-0.488647</td>\n",
              "      <td>-0.206441</td>\n",
              "      <td>-0.706400</td>\n",
              "      <td>-0.729394</td>\n",
              "      <td>-0.175279</td>\n",
              "    </tr>\n",
              "    <tr>\n",
              "      <th>12</th>\n",
              "      <td>-0.053857</td>\n",
              "      <td>-0.091054</td>\n",
              "      <td>-0.132778</td>\n",
              "      <td>-0.214741</td>\n",
              "      <td>-0.272959</td>\n",
              "      <td>-0.292325</td>\n",
              "      <td>-0.374963</td>\n",
              "      <td>-0.436877</td>\n",
              "      <td>-0.451810</td>\n",
              "      <td>-0.502290</td>\n",
              "      <td>-0.546203</td>\n",
              "      <td>-0.580799</td>\n",
              "      <td>-0.629879</td>\n",
              "      <td>-0.691989</td>\n",
              "      <td>-0.706400</td>\n",
              "      <td>-0.053333</td>\n",
              "      <td>-0.155164</td>\n",
              "    </tr>\n",
              "  </tbody>\n",
              "</table>\n",
              "</div>"
            ],
            "text/plain": [
              "           0         1         2   ...        14        15        16\n",
              "404 -0.053857 -0.091054 -0.132778  ...  2.294928  0.314650  2.009198\n",
              "433 -0.053857 -0.091054 -0.132778  ... -0.622792  2.389900 -0.808899\n",
              "282 -0.053857 -0.091054 -0.132778  ...  1.814715  1.771604 -0.034475\n",
              "4   -0.053857 -0.091054 -0.132778  ... -0.706400 -0.729394 -0.175279\n",
              "12  -0.053857 -0.091054 -0.132778  ... -0.706400 -0.053333 -0.155164\n",
              "\n",
              "[5 rows x 17 columns]"
            ]
          },
          "metadata": {
            "tags": []
          },
          "execution_count": 13
        }
      ]
    },
    {
      "cell_type": "markdown",
      "metadata": {
        "id": "LeRFgxc6q9d9",
        "colab_type": "text"
      },
      "source": [
        "# Y Verilerimizi One Hot Encoding Uygulamamız Gerekiyor :  \n",
        "\n",
        "\n",
        "---\n",
        "\n",
        "\n",
        "**One Hot Encoding Nedir?**\n",
        "\n",
        "One Hot Encoding, kategorik değişkenlerin ikili (binary) olarak temsil edilmesi anlamına gelmektedir. Bu işlem, ağın model için problemi daha kolay hale getirmesine yardımcı olabilir. \n",
        "\n",
        "\n",
        "- Bu işlem ilk önce kategorik değerlerin tamsayı değerleriyle eşlenmesini gerektirir.\n",
        "- Daha sonra, her bir tamsayı değeri, 1 ile işaretlenmiş tamsayı indeksi dışındaki tüm değerleri   sıfır  olan bir ikili vektör olarak temsil edilir."
      ]
    },
    {
      "cell_type": "code",
      "metadata": {
        "id": "8Z7ZtoURq3j5",
        "colab_type": "code",
        "colab": {
          "base_uri": "https://localhost:8080/",
          "height": 195
        },
        "outputId": "23b3aabb-04d2-430c-c924-850a7c832ea7"
      },
      "source": [
        "pd.DataFrame(y).sample(5)"
      ],
      "execution_count": 14,
      "outputs": [
        {
          "output_type": "execute_result",
          "data": {
            "text/html": [
              "<div>\n",
              "<style scoped>\n",
              "    .dataframe tbody tr th:only-of-type {\n",
              "        vertical-align: middle;\n",
              "    }\n",
              "\n",
              "    .dataframe tbody tr th {\n",
              "        vertical-align: top;\n",
              "    }\n",
              "\n",
              "    .dataframe thead th {\n",
              "        text-align: right;\n",
              "    }\n",
              "</style>\n",
              "<table border=\"1\" class=\"dataframe\">\n",
              "  <thead>\n",
              "    <tr style=\"text-align: right;\">\n",
              "      <th></th>\n",
              "      <th>CLASS</th>\n",
              "    </tr>\n",
              "  </thead>\n",
              "  <tbody>\n",
              "    <tr>\n",
              "      <th>61</th>\n",
              "      <td>1</td>\n",
              "    </tr>\n",
              "    <tr>\n",
              "      <th>90</th>\n",
              "      <td>1</td>\n",
              "    </tr>\n",
              "    <tr>\n",
              "      <th>137</th>\n",
              "      <td>-1</td>\n",
              "    </tr>\n",
              "    <tr>\n",
              "      <th>204</th>\n",
              "      <td>1</td>\n",
              "    </tr>\n",
              "    <tr>\n",
              "      <th>44</th>\n",
              "      <td>-1</td>\n",
              "    </tr>\n",
              "  </tbody>\n",
              "</table>\n",
              "</div>"
            ],
            "text/plain": [
              "     CLASS\n",
              "61       1\n",
              "90       1\n",
              "137     -1\n",
              "204      1\n",
              "44      -1"
            ]
          },
          "metadata": {
            "tags": []
          },
          "execution_count": 14
        }
      ]
    },
    {
      "cell_type": "code",
      "metadata": {
        "id": "CrBla6LtrDtU",
        "colab_type": "code",
        "colab": {
          "base_uri": "https://localhost:8080/",
          "height": 195
        },
        "outputId": "d91040e6-daee-40f9-8702-1cba13928d3f"
      },
      "source": [
        "le = preprocessing.LabelEncoder()\n",
        "y = le.fit_transform(y)\n",
        "pd.DataFrame(y).sample(5)"
      ],
      "execution_count": 15,
      "outputs": [
        {
          "output_type": "execute_result",
          "data": {
            "text/html": [
              "<div>\n",
              "<style scoped>\n",
              "    .dataframe tbody tr th:only-of-type {\n",
              "        vertical-align: middle;\n",
              "    }\n",
              "\n",
              "    .dataframe tbody tr th {\n",
              "        vertical-align: top;\n",
              "    }\n",
              "\n",
              "    .dataframe thead th {\n",
              "        text-align: right;\n",
              "    }\n",
              "</style>\n",
              "<table border=\"1\" class=\"dataframe\">\n",
              "  <thead>\n",
              "    <tr style=\"text-align: right;\">\n",
              "      <th></th>\n",
              "      <th>0</th>\n",
              "    </tr>\n",
              "  </thead>\n",
              "  <tbody>\n",
              "    <tr>\n",
              "      <th>457</th>\n",
              "      <td>1</td>\n",
              "    </tr>\n",
              "    <tr>\n",
              "      <th>50</th>\n",
              "      <td>1</td>\n",
              "    </tr>\n",
              "    <tr>\n",
              "      <th>493</th>\n",
              "      <td>1</td>\n",
              "    </tr>\n",
              "    <tr>\n",
              "      <th>40</th>\n",
              "      <td>1</td>\n",
              "    </tr>\n",
              "    <tr>\n",
              "      <th>2</th>\n",
              "      <td>1</td>\n",
              "    </tr>\n",
              "  </tbody>\n",
              "</table>\n",
              "</div>"
            ],
            "text/plain": [
              "     0\n",
              "457  1\n",
              "50   1\n",
              "493  1\n",
              "40   1\n",
              "2    1"
            ]
          },
          "metadata": {
            "tags": []
          },
          "execution_count": 15
        }
      ]
    },
    {
      "cell_type": "code",
      "metadata": {
        "id": "nKg1rQi8rGRc",
        "colab_type": "code",
        "colab": {
          "base_uri": "https://localhost:8080/",
          "height": 195
        },
        "outputId": "8cd0953d-a5b9-4c54-d34d-43d36bf58d46"
      },
      "source": [
        "y = to_categorical(y)\n",
        "pd.DataFrame(y).sample(5)"
      ],
      "execution_count": 16,
      "outputs": [
        {
          "output_type": "execute_result",
          "data": {
            "text/html": [
              "<div>\n",
              "<style scoped>\n",
              "    .dataframe tbody tr th:only-of-type {\n",
              "        vertical-align: middle;\n",
              "    }\n",
              "\n",
              "    .dataframe tbody tr th {\n",
              "        vertical-align: top;\n",
              "    }\n",
              "\n",
              "    .dataframe thead th {\n",
              "        text-align: right;\n",
              "    }\n",
              "</style>\n",
              "<table border=\"1\" class=\"dataframe\">\n",
              "  <thead>\n",
              "    <tr style=\"text-align: right;\">\n",
              "      <th></th>\n",
              "      <th>0</th>\n",
              "      <th>1</th>\n",
              "    </tr>\n",
              "  </thead>\n",
              "  <tbody>\n",
              "    <tr>\n",
              "      <th>315</th>\n",
              "      <td>1.0</td>\n",
              "      <td>0.0</td>\n",
              "    </tr>\n",
              "    <tr>\n",
              "      <th>55</th>\n",
              "      <td>0.0</td>\n",
              "      <td>1.0</td>\n",
              "    </tr>\n",
              "    <tr>\n",
              "      <th>111</th>\n",
              "      <td>0.0</td>\n",
              "      <td>1.0</td>\n",
              "    </tr>\n",
              "    <tr>\n",
              "      <th>253</th>\n",
              "      <td>0.0</td>\n",
              "      <td>1.0</td>\n",
              "    </tr>\n",
              "    <tr>\n",
              "      <th>104</th>\n",
              "      <td>0.0</td>\n",
              "      <td>1.0</td>\n",
              "    </tr>\n",
              "  </tbody>\n",
              "</table>\n",
              "</div>"
            ],
            "text/plain": [
              "       0    1\n",
              "315  1.0  0.0\n",
              "55   0.0  1.0\n",
              "111  0.0  1.0\n",
              "253  0.0  1.0\n",
              "104  0.0  1.0"
            ]
          },
          "metadata": {
            "tags": []
          },
          "execution_count": 16
        }
      ]
    },
    {
      "cell_type": "markdown",
      "metadata": {
        "id": "PfuhRvEwrbl2",
        "colab_type": "text"
      },
      "source": [
        "# Train ve Test İşlemleri İçin Ayrımı Gerçekleştirelim : \n",
        "\n",
        "---\n"
      ]
    },
    {
      "cell_type": "code",
      "metadata": {
        "id": "vZ3KuVgorLU4",
        "colab_type": "code",
        "colab": {}
      },
      "source": [
        "#x = np.reshape(x, (x.shape[0], x.shape[1], 1))\n",
        "#y = np.reshape(y, (y.shape[0], y.shape[1], 1))\n",
        "x_train, x_test, y_train, y_test = train_test_split(x, y, test_size = 0.2, random_state = 42)"
      ],
      "execution_count": 17,
      "outputs": []
    },
    {
      "cell_type": "code",
      "metadata": {
        "id": "2xzI-22trfVt",
        "colab_type": "code",
        "colab": {
          "base_uri": "https://localhost:8080/",
          "height": 84
        },
        "outputId": "fd7c68db-5a16-4cad-9b8e-9d3e7af99c5c"
      },
      "source": [
        "print('x Train : ' + str(x_train.shape))\n",
        "print('x Test : ' + str(x_test.shape))\n",
        "print('y Train : ' + str(y_train.shape))\n",
        "print('y Test : ' + str(y_test.shape))"
      ],
      "execution_count": 18,
      "outputs": [
        {
          "output_type": "stream",
          "text": [
            "x Train : (425, 17)\n",
            "x Test : (107, 17)\n",
            "y Train : (425, 2)\n",
            "y Test : (107, 2)\n"
          ],
          "name": "stdout"
        }
      ]
    },
    {
      "cell_type": "code",
      "metadata": {
        "id": "YKszKG0qI6bY",
        "colab_type": "code",
        "colab": {}
      },
      "source": [
        "\n",
        "from keras.models import Sequential\n",
        "from keras.layers import Dense, Dropout, Activation, SimpleRNN\n",
        "from keras.layers import Embedding\n",
        "from keras.layers import Conv1D, GlobalMaxPooling1D, GlobalMaxPooling2D\n",
        "from keras.preprocessing.text import Tokenizer\n",
        "from keras.preprocessing import sequence\n",
        "from sklearn.preprocessing import LabelEncoder\n",
        "import time\n",
        "from keras import metrics"
      ],
      "execution_count": 19,
      "outputs": []
    },
    {
      "cell_type": "code",
      "metadata": {
        "id": "fSlKA3j3GyZW",
        "colab_type": "code",
        "colab": {
          "base_uri": "https://localhost:8080/",
          "height": 793
        },
        "outputId": "42a2e19a-3533-4141-f301-d3c74f2f5e3d"
      },
      "source": [
        "\"\"\"model = Sequential()\n",
        "\n",
        "model.add(SimpleRNN(units = 20, activation = \"relu\", use_bias = True, return_sequences = True, input_shape = (x_train.shape[1], 1)))\n",
        "model.add(Dropout(0.2))\n",
        "model.add(SimpleRNN(units = 20, activation = \"relu\", use_bias = True, return_sequences = True))\n",
        "model.add(Dropout(0.2))\n",
        "model.add(SimpleRNN(units = 20, activation = \"relu\", use_bias = True, return_sequences = True))\n",
        "model.add(Dropout(0.2))\n",
        "model.add(SimpleRNN(units = 20, activation = \"relu\", use_bias = True, return_sequences = True))\n",
        "model.add(Dropout(0.2))\n",
        "model.add(SimpleRNN(units = 20, activation = \"relu\", use_bias = True))\n",
        "model.add(Dropout(0.2))\n",
        "\n",
        "model.add(Dense(units=2, activation='softmax'))\n",
        "\n",
        "model.compile(loss='categorical_crossentropy',\n",
        "                  optimizer='adam',\n",
        "                  metrics=['acc'])\n",
        "history = model.fit(x_train,y_train,batch_size=2,epochs=5,verbose=1,validation_data=(x_test, y_test))\n",
        "\"\"\"\n",
        "\n",
        "model = Sequential()\n",
        "\n",
        "model.add(Embedding(1000, 20, input_length=17))\n",
        "model.add(SimpleRNN(units = 20, activation = \"relu\", use_bias = True))\n",
        "model.add(Dense(256))\n",
        "model.add(Activation('relu'))\n",
        "model.add(Dense(2))\n",
        "model.add(Activation('sigmoid'))\n",
        "model.summary()\n",
        "model.compile(loss='binary_crossentropy',\n",
        "                  optimizer='adam',\n",
        "                  metrics=['acc'])\n",
        "\n",
        "history = model.fit(x_train,y_train,batch_size=2,epochs=10,verbose=1,validation_data=(x_test, y_test))\n"
      ],
      "execution_count": 20,
      "outputs": [
        {
          "output_type": "stream",
          "text": [
            "Model: \"sequential_1\"\n",
            "_________________________________________________________________\n",
            "Layer (type)                 Output Shape              Param #   \n",
            "=================================================================\n",
            "embedding_1 (Embedding)      (None, 17, 20)            20000     \n",
            "_________________________________________________________________\n",
            "conv1d_1 (Conv1D)            (None, 15, 64)            3904      \n",
            "_________________________________________________________________\n",
            "global_max_pooling1d_1 (Glob (None, 64)                0         \n",
            "_________________________________________________________________\n",
            "dense_1 (Dense)              (None, 256)               16640     \n",
            "_________________________________________________________________\n",
            "activation_1 (Activation)    (None, 256)               0         \n",
            "_________________________________________________________________\n",
            "dense_2 (Dense)              (None, 2)                 514       \n",
            "_________________________________________________________________\n",
            "activation_2 (Activation)    (None, 2)                 0         \n",
            "=================================================================\n",
            "Total params: 41,058\n",
            "Trainable params: 41,058\n",
            "Non-trainable params: 0\n",
            "_________________________________________________________________\n"
          ],
          "name": "stdout"
        },
        {
          "output_type": "stream",
          "text": [
            "/usr/local/lib/python3.6/dist-packages/tensorflow/python/framework/indexed_slices.py:434: UserWarning: Converting sparse IndexedSlices to a dense Tensor of unknown shape. This may consume a large amount of memory.\n",
            "  \"Converting sparse IndexedSlices to a dense Tensor of unknown shape. \"\n"
          ],
          "name": "stderr"
        },
        {
          "output_type": "stream",
          "text": [
            "Train on 425 samples, validate on 107 samples\n",
            "Epoch 1/10\n",
            "425/425 [==============================] - 1s 1ms/step - loss: 0.6452 - acc: 0.6882 - val_loss: 0.6032 - val_acc: 0.7290\n",
            "Epoch 2/10\n",
            "425/425 [==============================] - 0s 902us/step - loss: 0.6207 - acc: 0.6894 - val_loss: 0.5966 - val_acc: 0.7290\n",
            "Epoch 3/10\n",
            "425/425 [==============================] - 0s 880us/step - loss: 0.6039 - acc: 0.6894 - val_loss: 0.6026 - val_acc: 0.7290\n",
            "Epoch 4/10\n",
            "425/425 [==============================] - 0s 871us/step - loss: 0.5966 - acc: 0.6894 - val_loss: 0.6013 - val_acc: 0.7290\n",
            "Epoch 5/10\n",
            "425/425 [==============================] - 0s 965us/step - loss: 0.5948 - acc: 0.6894 - val_loss: 0.6024 - val_acc: 0.7290\n",
            "Epoch 6/10\n",
            "425/425 [==============================] - 0s 874us/step - loss: 0.5944 - acc: 0.6894 - val_loss: 0.6174 - val_acc: 0.7290\n",
            "Epoch 7/10\n",
            "425/425 [==============================] - 0s 885us/step - loss: 0.5958 - acc: 0.6894 - val_loss: 0.6001 - val_acc: 0.7290\n",
            "Epoch 8/10\n",
            "425/425 [==============================] - 0s 862us/step - loss: 0.5893 - acc: 0.6894 - val_loss: 0.5987 - val_acc: 0.7290\n",
            "Epoch 9/10\n",
            "425/425 [==============================] - 0s 891us/step - loss: 0.5926 - acc: 0.6894 - val_loss: 0.6053 - val_acc: 0.7290\n",
            "Epoch 10/10\n",
            "425/425 [==============================] - 0s 891us/step - loss: 0.5853 - acc: 0.6894 - val_loss: 0.6101 - val_acc: 0.7290\n"
          ],
          "name": "stdout"
        }
      ]
    },
    {
      "cell_type": "code",
      "metadata": {
        "id": "ULi0icVpKjsn",
        "colab_type": "code",
        "colab": {}
      },
      "source": [
        ""
      ],
      "execution_count": 20,
      "outputs": []
    }
  ]
}