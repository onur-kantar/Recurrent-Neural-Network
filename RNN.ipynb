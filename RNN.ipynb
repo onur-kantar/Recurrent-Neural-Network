{
  "nbformat": 4,
  "nbformat_minor": 0,
  "metadata": {
    "colab": {
      "name": "RNN.ipynb",
      "provenance": [],
      "collapsed_sections": [],
      "toc_visible": true
    },
    "kernelspec": {
      "name": "python3",
      "display_name": "Python 3"
    }
  },
  "cells": [
    {
      "cell_type": "markdown",
      "metadata": {
        "colab_type": "text",
        "id": "NL4AaGJ0lpIG"
      },
      "source": [
        "# Ön Bilgi\n",
        "**Geliştiren :** Onur Kantar - Ömer Resul Ertan\n",
        "\n",
        "**Veri Kümesi Adı :** 17K Tweet\n",
        "\n",
        "**Veri Kümesinin İçeriği :** 3 farklı sınıfa ait toplamda 17000 tweet.\n",
        "\n",
        "**Tweet Sınıfları :** \n",
        "\n",
        "0. Nötr\n",
        "1. Olumlu\n",
        "2. Olumsuz\n",
        "\n",
        "**Veri Kümesi Referansı :** “Duygudurum Analizinde Kelimeler, Anlamlar, Karakterler”,  Mehmet Fatih Amasyali, Hakan Taşköprü, Kübra Çalışkan, Akıllı Sistemlerde Yenilikler ve Uygulamaları Sempozyumu (ASYU), 4-6 Ekim 2018, Adana.\n",
        "\n",
        "**Algoritma :** Recurrent Neural Network (RNN)\n",
        "\n",
        "**Ağ Mimarisi :** \n",
        "\n",
        "- SimpleRNN(50)\n",
        "- SimpleRNN(50)\n",
        "- Dense(250)\n",
        "- Dense(20)\n",
        "\n",
        "**batch_size :** 8\n",
        "\n",
        "**epochs :** 10\n",
        "\n",
        "**Doğruluk Oranı :** ~%80\n",
        "\n",
        "\n",
        "---\n",
        "\n"
      ]
    },
    {
      "cell_type": "code",
      "metadata": {
        "colab_type": "code",
        "id": "qloBlNRclpIH",
        "colab": {
          "base_uri": "https://localhost:8080/",
          "height": 87
        },
        "outputId": "f08308dd-3f1a-4751-af33-b79db684caa8"
      },
      "source": [
        "import pandas as pd                     \n",
        "import re\n",
        "import nltk\n",
        "from nltk.corpus import stopwords\n",
        "import seaborn as sns\n",
        "from sklearn import preprocessing\n",
        "from sklearn.preprocessing import StandardScaler\n",
        "from keras.utils import to_categorical\n",
        "from sklearn.model_selection import train_test_split\n",
        "from keras.preprocessing.text import Tokenizer\n",
        "from keras.preprocessing.sequence import pad_sequences\n",
        "import numpy as np\n",
        "from sklearn.metrics import confusion_matrix\n",
        "from mlxtend.plotting import plot_confusion_matrix\n",
        "from keras.models import Sequential\n",
        "from keras.layers import Dense, SimpleRNN\n",
        "from sklearn.preprocessing import LabelEncoder\n",
        "import matplotlib.pyplot as plt"
      ],
      "execution_count": null,
      "outputs": [
        {
          "output_type": "stream",
          "text": [
            "/usr/local/lib/python3.6/dist-packages/statsmodels/tools/_testing.py:19: FutureWarning: pandas.util.testing is deprecated. Use the functions in the public API at pandas.testing instead.\n",
            "  import pandas.util.testing as tm\n",
            "Using TensorFlow backend.\n"
          ],
          "name": "stderr"
        }
      ]
    },
    {
      "cell_type": "code",
      "metadata": {
        "colab_type": "code",
        "id": "o599qC6alpIL",
        "colab": {
          "base_uri": "https://localhost:8080/",
          "height": 402
        },
        "outputId": "3e7334bd-8532-4e21-99cd-633579ad9c1d"
      },
      "source": [
        "df = pd.read_csv(\"/content/drive/My Drive/Colab Notebooks/Data Sets/17000tweet/17000tweet.csv\", sep=';', encoding=\"utf8\")\n",
        "df"
      ],
      "execution_count": null,
      "outputs": [
        {
          "output_type": "execute_result",
          "data": {
            "text/html": [
              "<div>\n",
              "<style scoped>\n",
              "    .dataframe tbody tr th:only-of-type {\n",
              "        vertical-align: middle;\n",
              "    }\n",
              "\n",
              "    .dataframe tbody tr th {\n",
              "        vertical-align: top;\n",
              "    }\n",
              "\n",
              "    .dataframe thead th {\n",
              "        text-align: right;\n",
              "    }\n",
              "</style>\n",
              "<table border=\"1\" class=\"dataframe\">\n",
              "  <thead>\n",
              "    <tr style=\"text-align: right;\">\n",
              "      <th></th>\n",
              "      <th>tweet</th>\n",
              "      <th>durum</th>\n",
              "    </tr>\n",
              "  </thead>\n",
              "  <tbody>\n",
              "    <tr>\n",
              "      <th>0</th>\n",
              "      <td>Ulan Wifi'ye bağlıyım ben. Ona bağlıyken Turkc...</td>\n",
              "      <td>olumsuz</td>\n",
              "    </tr>\n",
              "    <tr>\n",
              "      <th>1</th>\n",
              "      <td>20 dk 1 GB internet 500 mb sadece kaşar turkce...</td>\n",
              "      <td>olumsuz</td>\n",
              "    </tr>\n",
              "    <tr>\n",
              "      <th>2</th>\n",
              "      <td>Ayrıca turkcell superonline reklamı kadar da k...</td>\n",
              "      <td>olumsuz</td>\n",
              "    </tr>\n",
              "    <tr>\n",
              "      <th>3</th>\n",
              "      <td>Turkcell çok pahalı ya</td>\n",
              "      <td>olumsuz</td>\n",
              "    </tr>\n",
              "    <tr>\n",
              "      <th>4</th>\n",
              "      <td>Turkcell Kaş'ta internetin cekmiyor</td>\n",
              "      <td>olumsuz</td>\n",
              "    </tr>\n",
              "    <tr>\n",
              "      <th>...</th>\n",
              "      <td>...</td>\n",
              "      <td>...</td>\n",
              "    </tr>\n",
              "    <tr>\n",
              "      <th>17284</th>\n",
              "      <td>@turktelekom kalite sıfır bi Turkcell değilsiniz</td>\n",
              "      <td>olumlu</td>\n",
              "    </tr>\n",
              "    <tr>\n",
              "      <th>17285</th>\n",
              "      <td>Turkcell ve Yandex Yerli Arama Motoru Üzerine ...</td>\n",
              "      <td>notr</td>\n",
              "    </tr>\n",
              "    <tr>\n",
              "      <th>17286</th>\n",
              "      <td>Turkcell yeni reklaminda altta kayan bilgilend...</td>\n",
              "      <td>notr</td>\n",
              "    </tr>\n",
              "    <tr>\n",
              "      <th>17287</th>\n",
              "      <td>Turkcell’de Yazılım Mühendisi maaşı hakkında b...</td>\n",
              "      <td>notr</td>\n",
              "    </tr>\n",
              "    <tr>\n",
              "      <th>17288</th>\n",
              "      <td>Turkcell’den büyük müjde ...&gt;&gt;</td>\n",
              "      <td>olumlu</td>\n",
              "    </tr>\n",
              "  </tbody>\n",
              "</table>\n",
              "<p>17289 rows × 2 columns</p>\n",
              "</div>"
            ],
            "text/plain": [
              "                                                   tweet    durum\n",
              "0      Ulan Wifi'ye bağlıyım ben. Ona bağlıyken Turkc...  olumsuz\n",
              "1      20 dk 1 GB internet 500 mb sadece kaşar turkce...  olumsuz\n",
              "2      Ayrıca turkcell superonline reklamı kadar da k...  olumsuz\n",
              "3                                 Turkcell çok pahalı ya  olumsuz\n",
              "4                    Turkcell Kaş'ta internetin cekmiyor  olumsuz\n",
              "...                                                  ...      ...\n",
              "17284   @turktelekom kalite sıfır bi Turkcell değilsiniz   olumlu\n",
              "17285  Turkcell ve Yandex Yerli Arama Motoru Üzerine ...     notr\n",
              "17286  Turkcell yeni reklaminda altta kayan bilgilend...     notr\n",
              "17287  Turkcell’de Yazılım Mühendisi maaşı hakkında b...     notr\n",
              "17288                     Turkcell’den büyük müjde ...>>   olumlu\n",
              "\n",
              "[17289 rows x 2 columns]"
            ]
          },
          "metadata": {
            "tags": []
          },
          "execution_count": 2
        }
      ]
    },
    {
      "cell_type": "markdown",
      "metadata": {
        "colab_type": "text",
        "id": "8_-ZD-7ZlpIN"
      },
      "source": [
        "# Veri Kümemizi Düzenleyelim : \n",
        "\n",
        "---\n",
        "\n"
      ]
    },
    {
      "cell_type": "markdown",
      "metadata": {
        "colab_type": "text",
        "id": "-KsJvXnMlpIN"
      },
      "source": [
        "### NULL Değerleri Silelim : "
      ]
    },
    {
      "cell_type": "code",
      "metadata": {
        "colab_type": "code",
        "id": "yGv-yE03lpIO",
        "colab": {
          "base_uri": "https://localhost:8080/",
          "height": 67
        },
        "outputId": "53fbc0f3-a3af-4311-e930-0f16f7723834"
      },
      "source": [
        "df.isnull().sum()"
      ],
      "execution_count": null,
      "outputs": [
        {
          "output_type": "execute_result",
          "data": {
            "text/plain": [
              "tweet    0\n",
              "durum    0\n",
              "dtype: int64"
            ]
          },
          "metadata": {
            "tags": []
          },
          "execution_count": 3
        }
      ]
    },
    {
      "cell_type": "code",
      "metadata": {
        "colab_type": "code",
        "id": "pXfkwhj_lpIR",
        "colab": {}
      },
      "source": [
        "# NULL Değer Bulunmuyor.\n",
        "# df = df.dropna().reset_index(drop=True)\n",
        "# df.isnull().sum()"
      ],
      "execution_count": null,
      "outputs": []
    },
    {
      "cell_type": "markdown",
      "metadata": {
        "colab_type": "text",
        "id": "jYx5fxJzlpIT"
      },
      "source": [
        "### Gereksiz Verileri Kaldıralım :  "
      ]
    },
    {
      "cell_type": "code",
      "metadata": {
        "colab_type": "code",
        "id": "76r7TW4ulpIT",
        "colab": {
          "base_uri": "https://localhost:8080/",
          "height": 941
        },
        "outputId": "aead07f7-67d0-4705-c401-ac33604f4b45"
      },
      "source": [
        "nltk.download('stopwords')\n",
        "stop_word_list = stopwords.words('turkish')\n",
        "stop_word_list"
      ],
      "execution_count": null,
      "outputs": [
        {
          "output_type": "stream",
          "text": [
            "[nltk_data] Downloading package stopwords to /root/nltk_data...\n",
            "[nltk_data]   Unzipping corpora/stopwords.zip.\n"
          ],
          "name": "stdout"
        },
        {
          "output_type": "execute_result",
          "data": {
            "text/plain": [
              "['acaba',\n",
              " 'ama',\n",
              " 'aslında',\n",
              " 'az',\n",
              " 'bazı',\n",
              " 'belki',\n",
              " 'biri',\n",
              " 'birkaç',\n",
              " 'birşey',\n",
              " 'biz',\n",
              " 'bu',\n",
              " 'çok',\n",
              " 'çünkü',\n",
              " 'da',\n",
              " 'daha',\n",
              " 'de',\n",
              " 'defa',\n",
              " 'diye',\n",
              " 'eğer',\n",
              " 'en',\n",
              " 'gibi',\n",
              " 'hem',\n",
              " 'hep',\n",
              " 'hepsi',\n",
              " 'her',\n",
              " 'hiç',\n",
              " 'için',\n",
              " 'ile',\n",
              " 'ise',\n",
              " 'kez',\n",
              " 'ki',\n",
              " 'kim',\n",
              " 'mı',\n",
              " 'mu',\n",
              " 'mü',\n",
              " 'nasıl',\n",
              " 'ne',\n",
              " 'neden',\n",
              " 'nerde',\n",
              " 'nerede',\n",
              " 'nereye',\n",
              " 'niçin',\n",
              " 'niye',\n",
              " 'o',\n",
              " 'sanki',\n",
              " 'şey',\n",
              " 'siz',\n",
              " 'şu',\n",
              " 'tüm',\n",
              " 've',\n",
              " 'veya',\n",
              " 'ya',\n",
              " 'yani']"
            ]
          },
          "metadata": {
            "tags": []
          },
          "execution_count": 5
        }
      ]
    },
    {
      "cell_type": "code",
      "metadata": {
        "colab_type": "code",
        "id": "ozl9y33mlpIW",
        "colab": {}
      },
      "source": [
        "def preprocess_text(sen):\n",
        "    \n",
        "    # URL Silme İşlemi\n",
        "    sentence = re.sub(r'http\\S+', '', str(sen))\n",
        "\n",
        "    # E-Mail Adresi Silme İşlemi\n",
        "    sentence = re.sub('\\S+@\\S+', '', str(sentence))\n",
        "\n",
        "    # Sayıları Silme İşlemi\n",
        "    sentence = re.sub('[\\d\\s]', ' ', str(sentence))\n",
        "\n",
        "    # Noktalama İşaretlerini Silme İşlemi\n",
        "    sentence = re.sub('[^\\w\\s]', ' ', str(sentence))\n",
        "    \n",
        "    # Tek Karakterleri Silme İşlemi\n",
        "    sentence = re.sub(r\"\\b[\\w\\s]\\b\", ' ',str(sentence))\n",
        "    \n",
        "    # Birden Çok Boşluğu Silme İşlemi\n",
        "    sentence = re.sub(r'\\s+', ' ', sentence)\n",
        "        \n",
        "    # Engellenecek Kelimeleri Silme İşlemi\n",
        "    WPT = nltk.WordPunctTokenizer()\n",
        "    tokens = WPT.tokenize(sentence)\n",
        "    filtered_tokens = [token for token in tokens if token not in stop_word_list]\n",
        "    single_doc = ' '.join(filtered_tokens)\n",
        "    \n",
        "    # Tüm Harfler Küçük Harfe Dönüştürülüyor\n",
        "    return single_doc.lower()"
      ],
      "execution_count": null,
      "outputs": []
    },
    {
      "cell_type": "code",
      "metadata": {
        "colab_type": "code",
        "id": "wltak_vPlpIY",
        "colab": {}
      },
      "source": [
        "x = df['tweet']\n",
        "y = df['durum']"
      ],
      "execution_count": null,
      "outputs": []
    },
    {
      "cell_type": "code",
      "metadata": {
        "colab_type": "code",
        "id": "EoVD0hfzlpIa",
        "colab": {
          "base_uri": "https://localhost:8080/",
          "height": 402
        },
        "outputId": "7267085a-9d9e-4af6-c68a-9fa91d665bfd"
      },
      "source": [
        "x = x.apply(preprocess_text)\n",
        "pd.DataFrame(x)"
      ],
      "execution_count": null,
      "outputs": [
        {
          "output_type": "execute_result",
          "data": {
            "text/html": [
              "<div>\n",
              "<style scoped>\n",
              "    .dataframe tbody tr th:only-of-type {\n",
              "        vertical-align: middle;\n",
              "    }\n",
              "\n",
              "    .dataframe tbody tr th {\n",
              "        vertical-align: top;\n",
              "    }\n",
              "\n",
              "    .dataframe thead th {\n",
              "        text-align: right;\n",
              "    }\n",
              "</style>\n",
              "<table border=\"1\" class=\"dataframe\">\n",
              "  <thead>\n",
              "    <tr style=\"text-align: right;\">\n",
              "      <th></th>\n",
              "      <th>tweet</th>\n",
              "    </tr>\n",
              "  </thead>\n",
              "  <tbody>\n",
              "    <tr>\n",
              "      <th>0</th>\n",
              "      <td>ulan wifi ye bağlıyım ben ona bağlıyken turkce...</td>\n",
              "    </tr>\n",
              "    <tr>\n",
              "      <th>1</th>\n",
              "      <td>dk gb internet mb sadece kaşar turkcell düşer ...</td>\n",
              "    </tr>\n",
              "    <tr>\n",
              "      <th>2</th>\n",
              "      <td>ayrıca turkcell superonline reklamı kadar kötü...</td>\n",
              "    </tr>\n",
              "    <tr>\n",
              "      <th>3</th>\n",
              "      <td>turkcell pahalı</td>\n",
              "    </tr>\n",
              "    <tr>\n",
              "      <th>4</th>\n",
              "      <td>turkcell kaş ta internetin cekmiyor</td>\n",
              "    </tr>\n",
              "    <tr>\n",
              "      <th>...</th>\n",
              "      <td>...</td>\n",
              "    </tr>\n",
              "    <tr>\n",
              "      <th>17284</th>\n",
              "      <td>turktelekom kalite sıfır bi turkcell değilsiniz</td>\n",
              "    </tr>\n",
              "    <tr>\n",
              "      <th>17285</th>\n",
              "      <td>turkcell yandex yerli arama motoru üzerine çal...</td>\n",
              "    </tr>\n",
              "    <tr>\n",
              "      <th>17286</th>\n",
              "      <td>turkcell yeni reklaminda altta kayan bilgilend...</td>\n",
              "    </tr>\n",
              "    <tr>\n",
              "      <th>17287</th>\n",
              "      <td>turkcell yazılım mühendisi maaşı hakkında bilg...</td>\n",
              "    </tr>\n",
              "    <tr>\n",
              "      <th>17288</th>\n",
              "      <td>turkcell den büyük müjde</td>\n",
              "    </tr>\n",
              "  </tbody>\n",
              "</table>\n",
              "<p>17289 rows × 1 columns</p>\n",
              "</div>"
            ],
            "text/plain": [
              "                                                   tweet\n",
              "0      ulan wifi ye bağlıyım ben ona bağlıyken turkce...\n",
              "1      dk gb internet mb sadece kaşar turkcell düşer ...\n",
              "2      ayrıca turkcell superonline reklamı kadar kötü...\n",
              "3                                        turkcell pahalı\n",
              "4                    turkcell kaş ta internetin cekmiyor\n",
              "...                                                  ...\n",
              "17284    turktelekom kalite sıfır bi turkcell değilsiniz\n",
              "17285  turkcell yandex yerli arama motoru üzerine çal...\n",
              "17286  turkcell yeni reklaminda altta kayan bilgilend...\n",
              "17287  turkcell yazılım mühendisi maaşı hakkında bilg...\n",
              "17288                           turkcell den büyük müjde\n",
              "\n",
              "[17289 rows x 1 columns]"
            ]
          },
          "metadata": {
            "tags": []
          },
          "execution_count": 8
        }
      ]
    },
    {
      "cell_type": "code",
      "metadata": {
        "colab_type": "code",
        "id": "_AHPSoZ0lpIc",
        "colab": {
          "base_uri": "https://localhost:8080/",
          "height": 296
        },
        "outputId": "4ec4f7d2-9311-4be2-92e9-bbf6777098e8"
      },
      "source": [
        "sns.countplot(y)"
      ],
      "execution_count": null,
      "outputs": [
        {
          "output_type": "execute_result",
          "data": {
            "text/plain": [
              "<matplotlib.axes._subplots.AxesSubplot at 0x7f3617379128>"
            ]
          },
          "metadata": {
            "tags": []
          },
          "execution_count": 9
        },
        {
          "output_type": "display_data",
          "data": {
            "image/png": "[encoded data removed]",
            "text/plain": [
              "<Figure size 432x288 with 1 Axes>"
            ]
          },
          "metadata": {
            "tags": [],
            "needs_background": "light"
          }
        }
      ]
    },
    {
      "cell_type": "markdown",
      "metadata": {
        "colab_type": "text",
        "id": "Ki-jclSfwG5I"
      },
      "source": [
        "# X Verilerimizi Düzenleyelim : \n",
        "\n",
        "---"
      ]
    },
    {
      "cell_type": "markdown",
      "metadata": {
        "id": "QYAWu8NNqPjV",
        "colab_type": "text"
      },
      "source": [
        "## Vektörlere Dönüştürelim\n",
        "\n",
        "Veri setimizin işlenebilmesi için text verileri numaralara çevirmemiz gerekir.\n"
      ]
    },
    {
      "cell_type": "code",
      "metadata": {
        "colab_type": "code",
        "id": "we_u4vvHlpIf",
        "colab": {}
      },
      "source": [
        "token = Tokenizer()\n",
        "# Her kelimenin sıklığını hesaplar\n",
        "token.fit_on_texts(x)\n",
        "# Tüm kelimeleri sayı dizisine dönüştürür\n",
        "x = token.texts_to_sequences(x)\n",
        "# Bütün metinlerimiz en uzun kelimeden oluşan metnimiz kadar sütundan oluşan (23) bir dizi ile temsil edilecek.\n",
        "# 23'den kısa metinlerin boşlukları 0'lar ile doldurulacak.\n",
        "x = pad_sequences(x)"
      ],
      "execution_count": null,
      "outputs": []
    },
    {
      "cell_type": "code",
      "metadata": {
        "colab_type": "code",
        "id": "zv9MR7R5lpIi",
        "colab": {
          "base_uri": "https://localhost:8080/",
          "height": 215
        },
        "outputId": "b3b7e0ce-7fbf-428e-84da-0130b7cf8a71"
      },
      "source": [
        "pd.DataFrame(x).sample(5)"
      ],
      "execution_count": null,
      "outputs": [
        {
          "output_type": "execute_result",
          "data": {
            "text/html": [
              "<div>\n",
              "<style scoped>\n",
              "    .dataframe tbody tr th:only-of-type {\n",
              "        vertical-align: middle;\n",
              "    }\n",
              "\n",
              "    .dataframe tbody tr th {\n",
              "        vertical-align: top;\n",
              "    }\n",
              "\n",
              "    .dataframe thead th {\n",
              "        text-align: right;\n",
              "    }\n",
              "</style>\n",
              "<table border=\"1\" class=\"dataframe\">\n",
              "  <thead>\n",
              "    <tr style=\"text-align: right;\">\n",
              "      <th></th>\n",
              "      <th>0</th>\n",
              "      <th>1</th>\n",
              "      <th>2</th>\n",
              "      <th>3</th>\n",
              "      <th>4</th>\n",
              "      <th>5</th>\n",
              "      <th>6</th>\n",
              "      <th>7</th>\n",
              "      <th>8</th>\n",
              "      <th>9</th>\n",
              "      <th>10</th>\n",
              "      <th>11</th>\n",
              "      <th>12</th>\n",
              "      <th>13</th>\n",
              "      <th>14</th>\n",
              "      <th>15</th>\n",
              "      <th>16</th>\n",
              "      <th>17</th>\n",
              "      <th>18</th>\n",
              "      <th>19</th>\n",
              "      <th>20</th>\n",
              "      <th>21</th>\n",
              "      <th>22</th>\n",
              "      <th>23</th>\n",
              "      <th>24</th>\n",
              "      <th>25</th>\n",
              "      <th>26</th>\n",
              "      <th>27</th>\n",
              "      <th>28</th>\n",
              "      <th>29</th>\n",
              "      <th>30</th>\n",
              "      <th>31</th>\n",
              "      <th>32</th>\n",
              "      <th>33</th>\n",
              "    </tr>\n",
              "  </thead>\n",
              "  <tbody>\n",
              "    <tr>\n",
              "      <th>13768</th>\n",
              "      <td>0</td>\n",
              "      <td>0</td>\n",
              "      <td>0</td>\n",
              "      <td>0</td>\n",
              "      <td>0</td>\n",
              "      <td>0</td>\n",
              "      <td>0</td>\n",
              "      <td>0</td>\n",
              "      <td>0</td>\n",
              "      <td>0</td>\n",
              "      <td>0</td>\n",
              "      <td>0</td>\n",
              "      <td>0</td>\n",
              "      <td>0</td>\n",
              "      <td>0</td>\n",
              "      <td>0</td>\n",
              "      <td>0</td>\n",
              "      <td>0</td>\n",
              "      <td>0</td>\n",
              "      <td>0</td>\n",
              "      <td>0</td>\n",
              "      <td>0</td>\n",
              "      <td>0</td>\n",
              "      <td>0</td>\n",
              "      <td>0</td>\n",
              "      <td>0</td>\n",
              "      <td>0</td>\n",
              "      <td>0</td>\n",
              "      <td>1</td>\n",
              "      <td>159</td>\n",
              "      <td>321</td>\n",
              "      <td>2642</td>\n",
              "      <td>2633</td>\n",
              "      <td>6039</td>\n",
              "    </tr>\n",
              "    <tr>\n",
              "      <th>3592</th>\n",
              "      <td>0</td>\n",
              "      <td>0</td>\n",
              "      <td>0</td>\n",
              "      <td>0</td>\n",
              "      <td>0</td>\n",
              "      <td>0</td>\n",
              "      <td>0</td>\n",
              "      <td>0</td>\n",
              "      <td>0</td>\n",
              "      <td>0</td>\n",
              "      <td>0</td>\n",
              "      <td>0</td>\n",
              "      <td>0</td>\n",
              "      <td>0</td>\n",
              "      <td>77</td>\n",
              "      <td>122</td>\n",
              "      <td>570</td>\n",
              "      <td>19071</td>\n",
              "      <td>19072</td>\n",
              "      <td>414</td>\n",
              "      <td>1</td>\n",
              "      <td>912</td>\n",
              "      <td>6844</td>\n",
              "      <td>282</td>\n",
              "      <td>72</td>\n",
              "      <td>960</td>\n",
              "      <td>2894</td>\n",
              "      <td>7246</td>\n",
              "      <td>282</td>\n",
              "      <td>19073</td>\n",
              "      <td>223</td>\n",
              "      <td>1949</td>\n",
              "      <td>2062</td>\n",
              "      <td>19074</td>\n",
              "    </tr>\n",
              "    <tr>\n",
              "      <th>2848</th>\n",
              "      <td>0</td>\n",
              "      <td>0</td>\n",
              "      <td>0</td>\n",
              "      <td>0</td>\n",
              "      <td>0</td>\n",
              "      <td>0</td>\n",
              "      <td>0</td>\n",
              "      <td>0</td>\n",
              "      <td>0</td>\n",
              "      <td>0</td>\n",
              "      <td>0</td>\n",
              "      <td>0</td>\n",
              "      <td>0</td>\n",
              "      <td>0</td>\n",
              "      <td>0</td>\n",
              "      <td>0</td>\n",
              "      <td>0</td>\n",
              "      <td>0</td>\n",
              "      <td>0</td>\n",
              "      <td>0</td>\n",
              "      <td>0</td>\n",
              "      <td>0</td>\n",
              "      <td>0</td>\n",
              "      <td>0</td>\n",
              "      <td>0</td>\n",
              "      <td>2287</td>\n",
              "      <td>1</td>\n",
              "      <td>40</td>\n",
              "      <td>3605</td>\n",
              "      <td>1</td>\n",
              "      <td>289</td>\n",
              "      <td>17936</td>\n",
              "      <td>1698</td>\n",
              "      <td>4380</td>\n",
              "    </tr>\n",
              "    <tr>\n",
              "      <th>15410</th>\n",
              "      <td>0</td>\n",
              "      <td>0</td>\n",
              "      <td>0</td>\n",
              "      <td>0</td>\n",
              "      <td>0</td>\n",
              "      <td>0</td>\n",
              "      <td>0</td>\n",
              "      <td>0</td>\n",
              "      <td>0</td>\n",
              "      <td>0</td>\n",
              "      <td>0</td>\n",
              "      <td>0</td>\n",
              "      <td>0</td>\n",
              "      <td>0</td>\n",
              "      <td>0</td>\n",
              "      <td>0</td>\n",
              "      <td>0</td>\n",
              "      <td>0</td>\n",
              "      <td>0</td>\n",
              "      <td>0</td>\n",
              "      <td>0</td>\n",
              "      <td>0</td>\n",
              "      <td>0</td>\n",
              "      <td>0</td>\n",
              "      <td>0</td>\n",
              "      <td>0</td>\n",
              "      <td>0</td>\n",
              "      <td>1171</td>\n",
              "      <td>275</td>\n",
              "      <td>8</td>\n",
              "      <td>24</td>\n",
              "      <td>368</td>\n",
              "      <td>1</td>\n",
              "      <td>2530</td>\n",
              "    </tr>\n",
              "    <tr>\n",
              "      <th>3989</th>\n",
              "      <td>0</td>\n",
              "      <td>0</td>\n",
              "      <td>0</td>\n",
              "      <td>0</td>\n",
              "      <td>0</td>\n",
              "      <td>0</td>\n",
              "      <td>0</td>\n",
              "      <td>0</td>\n",
              "      <td>0</td>\n",
              "      <td>0</td>\n",
              "      <td>0</td>\n",
              "      <td>0</td>\n",
              "      <td>0</td>\n",
              "      <td>0</td>\n",
              "      <td>0</td>\n",
              "      <td>0</td>\n",
              "      <td>0</td>\n",
              "      <td>0</td>\n",
              "      <td>0</td>\n",
              "      <td>0</td>\n",
              "      <td>1</td>\n",
              "      <td>3</td>\n",
              "      <td>49</td>\n",
              "      <td>143</td>\n",
              "      <td>1610</td>\n",
              "      <td>105</td>\n",
              "      <td>150</td>\n",
              "      <td>1366</td>\n",
              "      <td>10246</td>\n",
              "      <td>165</td>\n",
              "      <td>37</td>\n",
              "      <td>798</td>\n",
              "      <td>154</td>\n",
              "      <td>10347</td>\n",
              "    </tr>\n",
              "  </tbody>\n",
              "</table>\n",
              "</div>"
            ],
            "text/plain": [
              "       0   1   2   3   4   5   6   ...    27     28     29   30     31    32     33\n",
              "13768   0   0   0   0   0   0   0  ...     0      1    159  321   2642  2633   6039\n",
              "3592    0   0   0   0   0   0   0  ...  7246    282  19073  223   1949  2062  19074\n",
              "2848    0   0   0   0   0   0   0  ...    40   3605      1  289  17936  1698   4380\n",
              "15410   0   0   0   0   0   0   0  ...  1171    275      8   24    368     1   2530\n",
              "3989    0   0   0   0   0   0   0  ...  1366  10246    165   37    798   154  10347\n",
              "\n",
              "[5 rows x 34 columns]"
            ]
          },
          "metadata": {
            "tags": []
          },
          "execution_count": 11
        }
      ]
    },
    {
      "cell_type": "markdown",
      "metadata": {
        "colab_type": "text",
        "id": "ujmA-hy0lpIl"
      },
      "source": [
        "\n",
        "\n",
        "## Ölçeklendirelim\n",
        "\n",
        "**Verileri Ölçeklendirme Nedir?**\n",
        "\n",
        "Ölçeklendirme dediğimiz şey veri setindeki iki farklı özelliğin (değişkenin) değerlerini en doğru şekilde analiz edebilmemize olanak sağlayan bir yöntemdir.\n",
        "\n",
        "- Verilerinizin dağılımının ortalama değeri 0 ve standart sapma değeri 1 olacak şekilde değiştiriyoruz (Standartlaştırma).\n",
        "- Tutarlılık oluşuyor. Bir veri diğer verilerden daha büyükse diğerleri üzerinde egemenlik kurabilir. Bunu istemeyiz.\n",
        "- Bir öğrenme modeliyle çalışırken, özellikleri sıfır merkezli bir aralığa ölçeklemek önemlidir.\n",
        "- Değerleri karşılaştırmak yerine oranları karşılaştırmış oluruz."
      ]
    },
    {
      "cell_type": "code",
      "metadata": {
        "colab_type": "code",
        "id": "wg1pxq2_lpIl",
        "colab": {}
      },
      "source": [
        "scaler = StandardScaler()\n",
        "x = scaler.fit_transform(x)"
      ],
      "execution_count": null,
      "outputs": []
    },
    {
      "cell_type": "code",
      "metadata": {
        "colab_type": "code",
        "id": "j6IapSw9lpIn",
        "colab": {
          "base_uri": "https://localhost:8080/",
          "height": 215
        },
        "outputId": "5c0ac0f7-24b9-4749-e21f-c4a79a4d5f45"
      },
      "source": [
        "pd.DataFrame(x).sample(5)"
      ],
      "execution_count": null,
      "outputs": [
        {
          "output_type": "execute_result",
          "data": {
            "text/html": [
              "<div>\n",
              "<style scoped>\n",
              "    .dataframe tbody tr th:only-of-type {\n",
              "        vertical-align: middle;\n",
              "    }\n",
              "\n",
              "    .dataframe tbody tr th {\n",
              "        vertical-align: top;\n",
              "    }\n",
              "\n",
              "    .dataframe thead th {\n",
              "        text-align: right;\n",
              "    }\n",
              "</style>\n",
              "<table border=\"1\" class=\"dataframe\">\n",
              "  <thead>\n",
              "    <tr style=\"text-align: right;\">\n",
              "      <th></th>\n",
              "      <th>0</th>\n",
              "      <th>1</th>\n",
              "      <th>2</th>\n",
              "      <th>3</th>\n",
              "      <th>4</th>\n",
              "      <th>5</th>\n",
              "      <th>6</th>\n",
              "      <th>7</th>\n",
              "      <th>8</th>\n",
              "      <th>9</th>\n",
              "      <th>10</th>\n",
              "      <th>11</th>\n",
              "      <th>12</th>\n",
              "      <th>13</th>\n",
              "      <th>14</th>\n",
              "      <th>15</th>\n",
              "      <th>16</th>\n",
              "      <th>17</th>\n",
              "      <th>18</th>\n",
              "      <th>19</th>\n",
              "      <th>20</th>\n",
              "      <th>21</th>\n",
              "      <th>22</th>\n",
              "      <th>23</th>\n",
              "      <th>24</th>\n",
              "      <th>25</th>\n",
              "      <th>26</th>\n",
              "      <th>27</th>\n",
              "      <th>28</th>\n",
              "      <th>29</th>\n",
              "      <th>30</th>\n",
              "      <th>31</th>\n",
              "      <th>32</th>\n",
              "      <th>33</th>\n",
              "    </tr>\n",
              "  </thead>\n",
              "  <tbody>\n",
              "    <tr>\n",
              "      <th>1551</th>\n",
              "      <td>-0.010048</td>\n",
              "      <td>-0.011655</td>\n",
              "      <td>-0.01427</td>\n",
              "      <td>-0.016171</td>\n",
              "      <td>-0.012827</td>\n",
              "      <td>-0.017271</td>\n",
              "      <td>-0.016625</td>\n",
              "      <td>-0.016696</td>\n",
              "      <td>-0.013299</td>\n",
              "      <td>-0.012942</td>\n",
              "      <td>-0.015501</td>\n",
              "      <td>-0.013686</td>\n",
              "      <td>-0.015609</td>\n",
              "      <td>-0.022705</td>\n",
              "      <td>-0.039869</td>\n",
              "      <td>-0.06676</td>\n",
              "      <td>-0.091482</td>\n",
              "      <td>-0.129172</td>\n",
              "      <td>-0.173459</td>\n",
              "      <td>-0.208795</td>\n",
              "      <td>-0.246425</td>\n",
              "      <td>-0.286303</td>\n",
              "      <td>-0.319853</td>\n",
              "      <td>-0.347441</td>\n",
              "      <td>-0.389669</td>\n",
              "      <td>1.632477</td>\n",
              "      <td>-0.445354</td>\n",
              "      <td>-0.318591</td>\n",
              "      <td>-0.510514</td>\n",
              "      <td>-0.507910</td>\n",
              "      <td>1.215706</td>\n",
              "      <td>-0.472823</td>\n",
              "      <td>1.086542</td>\n",
              "      <td>-0.556514</td>\n",
              "    </tr>\n",
              "    <tr>\n",
              "      <th>2172</th>\n",
              "      <td>-0.010048</td>\n",
              "      <td>-0.011655</td>\n",
              "      <td>-0.01427</td>\n",
              "      <td>-0.016171</td>\n",
              "      <td>-0.012827</td>\n",
              "      <td>-0.017271</td>\n",
              "      <td>-0.016625</td>\n",
              "      <td>-0.016696</td>\n",
              "      <td>-0.013299</td>\n",
              "      <td>-0.012942</td>\n",
              "      <td>-0.015501</td>\n",
              "      <td>-0.013686</td>\n",
              "      <td>-0.015609</td>\n",
              "      <td>-0.022705</td>\n",
              "      <td>-0.039869</td>\n",
              "      <td>-0.06676</td>\n",
              "      <td>-0.091482</td>\n",
              "      <td>-0.128801</td>\n",
              "      <td>0.071252</td>\n",
              "      <td>0.159830</td>\n",
              "      <td>-0.243133</td>\n",
              "      <td>-0.119003</td>\n",
              "      <td>-0.078706</td>\n",
              "      <td>-0.345476</td>\n",
              "      <td>-0.203760</td>\n",
              "      <td>-0.230402</td>\n",
              "      <td>-0.428464</td>\n",
              "      <td>-0.475617</td>\n",
              "      <td>-0.418953</td>\n",
              "      <td>-0.311666</td>\n",
              "      <td>-0.410025</td>\n",
              "      <td>-0.498507</td>\n",
              "      <td>-0.302615</td>\n",
              "      <td>0.002420</td>\n",
              "    </tr>\n",
              "    <tr>\n",
              "      <th>6788</th>\n",
              "      <td>-0.010048</td>\n",
              "      <td>-0.011655</td>\n",
              "      <td>-0.01427</td>\n",
              "      <td>-0.016171</td>\n",
              "      <td>-0.012827</td>\n",
              "      <td>-0.017271</td>\n",
              "      <td>-0.016625</td>\n",
              "      <td>-0.016696</td>\n",
              "      <td>-0.013299</td>\n",
              "      <td>-0.012942</td>\n",
              "      <td>-0.015501</td>\n",
              "      <td>-0.013686</td>\n",
              "      <td>-0.015609</td>\n",
              "      <td>-0.022705</td>\n",
              "      <td>-0.039869</td>\n",
              "      <td>-0.06676</td>\n",
              "      <td>-0.091482</td>\n",
              "      <td>-0.129172</td>\n",
              "      <td>-0.173459</td>\n",
              "      <td>-0.208795</td>\n",
              "      <td>-0.246425</td>\n",
              "      <td>-0.286303</td>\n",
              "      <td>-0.319853</td>\n",
              "      <td>-0.347290</td>\n",
              "      <td>-0.182461</td>\n",
              "      <td>-0.305400</td>\n",
              "      <td>-0.443807</td>\n",
              "      <td>-0.306783</td>\n",
              "      <td>-0.404103</td>\n",
              "      <td>-0.523059</td>\n",
              "      <td>-0.504099</td>\n",
              "      <td>-0.174336</td>\n",
              "      <td>-0.607716</td>\n",
              "      <td>0.085357</td>\n",
              "    </tr>\n",
              "    <tr>\n",
              "      <th>7869</th>\n",
              "      <td>-0.010048</td>\n",
              "      <td>-0.011655</td>\n",
              "      <td>-0.01427</td>\n",
              "      <td>-0.016171</td>\n",
              "      <td>-0.012827</td>\n",
              "      <td>-0.017271</td>\n",
              "      <td>-0.016625</td>\n",
              "      <td>-0.016696</td>\n",
              "      <td>-0.013299</td>\n",
              "      <td>-0.012942</td>\n",
              "      <td>-0.015501</td>\n",
              "      <td>-0.013686</td>\n",
              "      <td>-0.015609</td>\n",
              "      <td>-0.022705</td>\n",
              "      <td>-0.039869</td>\n",
              "      <td>-0.06676</td>\n",
              "      <td>-0.091482</td>\n",
              "      <td>-0.129172</td>\n",
              "      <td>-0.173459</td>\n",
              "      <td>-0.208795</td>\n",
              "      <td>-0.246425</td>\n",
              "      <td>-0.286303</td>\n",
              "      <td>-0.319853</td>\n",
              "      <td>-0.347290</td>\n",
              "      <td>-0.384732</td>\n",
              "      <td>-0.214013</td>\n",
              "      <td>-0.392364</td>\n",
              "      <td>-0.477443</td>\n",
              "      <td>-0.507824</td>\n",
              "      <td>0.680857</td>\n",
              "      <td>-0.421179</td>\n",
              "      <td>2.042520</td>\n",
              "      <td>-0.603070</td>\n",
              "      <td>1.680475</td>\n",
              "    </tr>\n",
              "    <tr>\n",
              "      <th>12882</th>\n",
              "      <td>-0.010048</td>\n",
              "      <td>-0.011655</td>\n",
              "      <td>-0.01427</td>\n",
              "      <td>-0.016171</td>\n",
              "      <td>-0.012827</td>\n",
              "      <td>-0.017271</td>\n",
              "      <td>-0.016625</td>\n",
              "      <td>-0.016696</td>\n",
              "      <td>-0.013299</td>\n",
              "      <td>-0.012942</td>\n",
              "      <td>-0.015501</td>\n",
              "      <td>-0.013686</td>\n",
              "      <td>-0.015609</td>\n",
              "      <td>-0.022705</td>\n",
              "      <td>-0.039869</td>\n",
              "      <td>-0.06676</td>\n",
              "      <td>-0.091482</td>\n",
              "      <td>-0.129172</td>\n",
              "      <td>-0.173459</td>\n",
              "      <td>-0.208795</td>\n",
              "      <td>-0.246425</td>\n",
              "      <td>-0.286303</td>\n",
              "      <td>-0.319853</td>\n",
              "      <td>-0.347441</td>\n",
              "      <td>-0.389669</td>\n",
              "      <td>-0.424845</td>\n",
              "      <td>-0.445483</td>\n",
              "      <td>-0.485599</td>\n",
              "      <td>3.211884</td>\n",
              "      <td>3.184946</td>\n",
              "      <td>-0.552093</td>\n",
              "      <td>-0.544262</td>\n",
              "      <td>-0.574764</td>\n",
              "      <td>-0.587700</td>\n",
              "    </tr>\n",
              "  </tbody>\n",
              "</table>\n",
              "</div>"
            ],
            "text/plain": [
              "             0         1        2   ...        31        32        33\n",
              "1551  -0.010048 -0.011655 -0.01427  ... -0.472823  1.086542 -0.556514\n",
              "2172  -0.010048 -0.011655 -0.01427  ... -0.498507 -0.302615  0.002420\n",
              "6788  -0.010048 -0.011655 -0.01427  ... -0.174336 -0.607716  0.085357\n",
              "7869  -0.010048 -0.011655 -0.01427  ...  2.042520 -0.603070  1.680475\n",
              "12882 -0.010048 -0.011655 -0.01427  ... -0.544262 -0.574764 -0.587700\n",
              "\n",
              "[5 rows x 34 columns]"
            ]
          },
          "metadata": {
            "tags": []
          },
          "execution_count": 13
        }
      ]
    },
    {
      "cell_type": "markdown",
      "metadata": {
        "id": "tKpx9tooeHQC",
        "colab_type": "text"
      },
      "source": [
        "## RNN için x'i 3 Boyutlu Hale Getirelim"
      ]
    },
    {
      "cell_type": "code",
      "metadata": {
        "id": "L5e2z9_leTM4",
        "colab_type": "code",
        "colab": {
          "base_uri": "https://localhost:8080/",
          "height": 34
        },
        "outputId": "45ef95b0-0144-45c5-da66-39bbb269d4a8"
      },
      "source": [
        "print('x : ' + str(x.shape))"
      ],
      "execution_count": null,
      "outputs": [
        {
          "output_type": "stream",
          "text": [
            "x : (17289, 34)\n"
          ],
          "name": "stdout"
        }
      ]
    },
    {
      "cell_type": "code",
      "metadata": {
        "id": "dYnjb3fleOTh",
        "colab_type": "code",
        "colab": {
          "base_uri": "https://localhost:8080/",
          "height": 34
        },
        "outputId": "39e6b7dc-1897-46ec-ab9a-cf7bdb3f97af"
      },
      "source": [
        "x = np.reshape(x, (x.shape[0], x.shape[1], 1))\n",
        "print('x : ' + str(x.shape))"
      ],
      "execution_count": null,
      "outputs": [
        {
          "output_type": "stream",
          "text": [
            "x : (17289, 34, 1)\n"
          ],
          "name": "stdout"
        }
      ]
    },
    {
      "cell_type": "markdown",
      "metadata": {
        "id": "DEpOmh-jjXoK",
        "colab_type": "text"
      },
      "source": [
        "# Y Verilerimizi Düzenleyelim :  \n",
        "\n",
        "\n",
        "---"
      ]
    },
    {
      "cell_type": "markdown",
      "metadata": {
        "colab_type": "text",
        "id": "sdeBXtDklpIu"
      },
      "source": [
        "## One Hot Encoding Uygulayalım\n",
        "\n",
        "**One Hot Encoding Nedir?**\n",
        "\n",
        "One Hot Encoding, kategorik değişkenlerin ikili (binary) olarak temsil edilmesi anlamına gelmektedir. Bu işlem, ağın model için problemi daha kolay hale getirmesine yardımcı olabilir. Hataları engeller ve daha hızlı çalışmasını sağlar. \n",
        "\n",
        "- Bu işlem ilk önce kategorik değerlerin tamsayı değerleriyle eşlenmesini gerektirir.\n",
        "- Daha sonra, her bir tamsayı değeri, 1 ile işaretlenmiş tamsayı indeksi dışındaki tüm değerleri   sıfır  olan bir ikili vektör olarak temsil edilir."
      ]
    },
    {
      "cell_type": "code",
      "metadata": {
        "colab_type": "code",
        "id": "2Yb34cQylpIv",
        "colab": {
          "base_uri": "https://localhost:8080/",
          "height": 195
        },
        "outputId": "924ac58c-ea88-4b90-8f60-31233f62cc8f"
      },
      "source": [
        "pd.DataFrame(y).sample(5)"
      ],
      "execution_count": null,
      "outputs": [
        {
          "output_type": "execute_result",
          "data": {
            "text/html": [
              "<div>\n",
              "<style scoped>\n",
              "    .dataframe tbody tr th:only-of-type {\n",
              "        vertical-align: middle;\n",
              "    }\n",
              "\n",
              "    .dataframe tbody tr th {\n",
              "        vertical-align: top;\n",
              "    }\n",
              "\n",
              "    .dataframe thead th {\n",
              "        text-align: right;\n",
              "    }\n",
              "</style>\n",
              "<table border=\"1\" class=\"dataframe\">\n",
              "  <thead>\n",
              "    <tr style=\"text-align: right;\">\n",
              "      <th></th>\n",
              "      <th>durum</th>\n",
              "    </tr>\n",
              "  </thead>\n",
              "  <tbody>\n",
              "    <tr>\n",
              "      <th>12074</th>\n",
              "      <td>notr</td>\n",
              "    </tr>\n",
              "    <tr>\n",
              "      <th>4438</th>\n",
              "      <td>olumsuz</td>\n",
              "    </tr>\n",
              "    <tr>\n",
              "      <th>1474</th>\n",
              "      <td>olumsuz</td>\n",
              "    </tr>\n",
              "    <tr>\n",
              "      <th>5578</th>\n",
              "      <td>olumlu</td>\n",
              "    </tr>\n",
              "    <tr>\n",
              "      <th>13746</th>\n",
              "      <td>olumsuz</td>\n",
              "    </tr>\n",
              "  </tbody>\n",
              "</table>\n",
              "</div>"
            ],
            "text/plain": [
              "         durum\n",
              "12074     notr\n",
              "4438   olumsuz\n",
              "1474   olumsuz\n",
              "5578    olumlu\n",
              "13746  olumsuz"
            ]
          },
          "metadata": {
            "tags": []
          },
          "execution_count": 16
        }
      ]
    },
    {
      "cell_type": "code",
      "metadata": {
        "id": "A3TLS4Ag-Zun",
        "colab_type": "code",
        "colab": {
          "base_uri": "https://localhost:8080/",
          "height": 195
        },
        "outputId": "c33ee53f-23ef-4c06-b2a5-aa7abeda7f36"
      },
      "source": [
        "le = preprocessing.LabelEncoder()\n",
        "y = le.fit_transform(y)\n",
        "pd.DataFrame(y).sample(5)"
      ],
      "execution_count": null,
      "outputs": [
        {
          "output_type": "execute_result",
          "data": {
            "text/html": [
              "<div>\n",
              "<style scoped>\n",
              "    .dataframe tbody tr th:only-of-type {\n",
              "        vertical-align: middle;\n",
              "    }\n",
              "\n",
              "    .dataframe tbody tr th {\n",
              "        vertical-align: top;\n",
              "    }\n",
              "\n",
              "    .dataframe thead th {\n",
              "        text-align: right;\n",
              "    }\n",
              "</style>\n",
              "<table border=\"1\" class=\"dataframe\">\n",
              "  <thead>\n",
              "    <tr style=\"text-align: right;\">\n",
              "      <th></th>\n",
              "      <th>0</th>\n",
              "    </tr>\n",
              "  </thead>\n",
              "  <tbody>\n",
              "    <tr>\n",
              "      <th>7652</th>\n",
              "      <td>1</td>\n",
              "    </tr>\n",
              "    <tr>\n",
              "      <th>15598</th>\n",
              "      <td>1</td>\n",
              "    </tr>\n",
              "    <tr>\n",
              "      <th>8069</th>\n",
              "      <td>0</td>\n",
              "    </tr>\n",
              "    <tr>\n",
              "      <th>12739</th>\n",
              "      <td>1</td>\n",
              "    </tr>\n",
              "    <tr>\n",
              "      <th>12950</th>\n",
              "      <td>2</td>\n",
              "    </tr>\n",
              "  </tbody>\n",
              "</table>\n",
              "</div>"
            ],
            "text/plain": [
              "       0\n",
              "7652   1\n",
              "15598  1\n",
              "8069   0\n",
              "12739  1\n",
              "12950  2"
            ]
          },
          "metadata": {
            "tags": []
          },
          "execution_count": 17
        }
      ]
    },
    {
      "cell_type": "code",
      "metadata": {
        "colab_type": "code",
        "id": "srANFZ8vlpIx",
        "colab": {
          "base_uri": "https://localhost:8080/",
          "height": 195
        },
        "outputId": "b666abea-9a86-4cf5-8c17-a3949e5273db"
      },
      "source": [
        "y = to_categorical(y)\n",
        "pd.DataFrame(y).sample(5)"
      ],
      "execution_count": null,
      "outputs": [
        {
          "output_type": "execute_result",
          "data": {
            "text/html": [
              "<div>\n",
              "<style scoped>\n",
              "    .dataframe tbody tr th:only-of-type {\n",
              "        vertical-align: middle;\n",
              "    }\n",
              "\n",
              "    .dataframe tbody tr th {\n",
              "        vertical-align: top;\n",
              "    }\n",
              "\n",
              "    .dataframe thead th {\n",
              "        text-align: right;\n",
              "    }\n",
              "</style>\n",
              "<table border=\"1\" class=\"dataframe\">\n",
              "  <thead>\n",
              "    <tr style=\"text-align: right;\">\n",
              "      <th></th>\n",
              "      <th>0</th>\n",
              "      <th>1</th>\n",
              "      <th>2</th>\n",
              "    </tr>\n",
              "  </thead>\n",
              "  <tbody>\n",
              "    <tr>\n",
              "      <th>3065</th>\n",
              "      <td>0.0</td>\n",
              "      <td>0.0</td>\n",
              "      <td>1.0</td>\n",
              "    </tr>\n",
              "    <tr>\n",
              "      <th>15206</th>\n",
              "      <td>0.0</td>\n",
              "      <td>1.0</td>\n",
              "      <td>0.0</td>\n",
              "    </tr>\n",
              "    <tr>\n",
              "      <th>4087</th>\n",
              "      <td>0.0</td>\n",
              "      <td>0.0</td>\n",
              "      <td>1.0</td>\n",
              "    </tr>\n",
              "    <tr>\n",
              "      <th>7303</th>\n",
              "      <td>0.0</td>\n",
              "      <td>1.0</td>\n",
              "      <td>0.0</td>\n",
              "    </tr>\n",
              "    <tr>\n",
              "      <th>4304</th>\n",
              "      <td>0.0</td>\n",
              "      <td>0.0</td>\n",
              "      <td>1.0</td>\n",
              "    </tr>\n",
              "  </tbody>\n",
              "</table>\n",
              "</div>"
            ],
            "text/plain": [
              "         0    1    2\n",
              "3065   0.0  0.0  1.0\n",
              "15206  0.0  1.0  0.0\n",
              "4087   0.0  0.0  1.0\n",
              "7303   0.0  1.0  0.0\n",
              "4304   0.0  0.0  1.0"
            ]
          },
          "metadata": {
            "tags": []
          },
          "execution_count": 18
        }
      ]
    },
    {
      "cell_type": "markdown",
      "metadata": {
        "colab_type": "text",
        "id": "qQP6zVI0lpIz"
      },
      "source": [
        "# Train ve Test İşlemleri İçin Ayrımı Gerçekleştirelim : \n",
        "\n",
        "---\n"
      ]
    },
    {
      "cell_type": "code",
      "metadata": {
        "colab_type": "code",
        "id": "dPa6Bxk6lpI0",
        "colab": {}
      },
      "source": [
        "x_train, x_test, y_train, y_test = train_test_split(x, y, test_size = 0.2, random_state = 42)"
      ],
      "execution_count": null,
      "outputs": []
    },
    {
      "cell_type": "code",
      "metadata": {
        "colab_type": "code",
        "id": "uiDegNTLlpI2",
        "colab": {
          "base_uri": "https://localhost:8080/",
          "height": 84
        },
        "outputId": "2490f6a0-fea9-4bf1-a2c3-1e8fadfc8866"
      },
      "source": [
        "print('x Train : ' + str(x_train.shape))\n",
        "print('x Test : ' + str(x_test.shape))\n",
        "print('y Train : ' + str(y_train.shape))\n",
        "print('y Test : ' + str(y_test.shape))"
      ],
      "execution_count": null,
      "outputs": [
        {
          "output_type": "stream",
          "text": [
            "x Train : (13831, 34, 1)\n",
            "x Test : (3458, 34, 1)\n",
            "y Train : (13831, 3)\n",
            "y Test : (3458, 3)\n"
          ],
          "name": "stdout"
        }
      ]
    },
    {
      "cell_type": "markdown",
      "metadata": {
        "id": "zl4502b3edzQ",
        "colab_type": "text"
      },
      "source": [
        "# Katmanları Oluşturup Eğitime Başlayalım : "
      ]
    },
    {
      "cell_type": "code",
      "metadata": {
        "colab_type": "code",
        "id": "tYbP8lNMlpI4",
        "colab": {
          "base_uri": "https://localhost:8080/",
          "height": 370
        },
        "outputId": "003b5929-6fdf-4742-871b-c20cbe62b136"
      },
      "source": [
        "model = Sequential()\n",
        "\n",
        "model.add(SimpleRNN(units = 50, activation = \"relu\", use_bias = True, return_sequences = True, input_shape = (x_train.shape[1], 1)))\n",
        "\n",
        "model.add(SimpleRNN(units = 50, activation = \"relu\", use_bias = True))\n",
        "\n",
        "model.add(Dense(250, activation = \"relu\"))\n",
        "\n",
        "model.add(Dense(3, activation = \"sigmoid\"))\n",
        "\n",
        "model.compile(loss='binary_crossentropy', optimizer='adam', metrics=['acc'])\n",
        "\n",
        "history = model.fit(x_train, y_train, batch_size = 8, epochs = 10, verbose = 1, validation_data = (x_test, y_test))"
      ],
      "execution_count": null,
      "outputs": [
        {
          "output_type": "stream",
          "text": [
            "Train on 13831 samples, validate on 3458 samples\n",
            "Epoch 1/10\n",
            "13831/13831 [==============================] - 22s 2ms/step - loss: 0.5888 - acc: 0.6931 - val_loss: 0.5446 - val_acc: 0.7244\n",
            "Epoch 2/10\n",
            "13831/13831 [==============================] - 22s 2ms/step - loss: 0.4937 - acc: 0.7504 - val_loss: 0.4544 - val_acc: 0.7659\n",
            "Epoch 3/10\n",
            "13831/13831 [==============================] - 22s 2ms/step - loss: 0.4476 - acc: 0.7761 - val_loss: 0.5031 - val_acc: 0.7600\n",
            "Epoch 4/10\n",
            "13831/13831 [==============================] - 21s 2ms/step - loss: 0.4304 - acc: 0.7849 - val_loss: 0.4728 - val_acc: 0.7634\n",
            "Epoch 5/10\n",
            "13831/13831 [==============================] - 22s 2ms/step - loss: 0.4211 - acc: 0.7877 - val_loss: 0.4155 - val_acc: 0.7933\n",
            "Epoch 6/10\n",
            "13831/13831 [==============================] - 21s 2ms/step - loss: 0.4077 - acc: 0.7941 - val_loss: 0.4314 - val_acc: 0.7877\n",
            "Epoch 7/10\n",
            "13831/13831 [==============================] - 21s 2ms/step - loss: 0.4038 - acc: 0.7954 - val_loss: 0.3934 - val_acc: 0.7990\n",
            "Epoch 8/10\n",
            "13831/13831 [==============================] - 21s 2ms/step - loss: 0.3982 - acc: 0.7979 - val_loss: 0.3983 - val_acc: 0.8017\n",
            "Epoch 9/10\n",
            "13831/13831 [==============================] - 22s 2ms/step - loss: 0.3933 - acc: 0.8015 - val_loss: 0.3923 - val_acc: 0.8035\n",
            "Epoch 10/10\n",
            "13831/13831 [==============================] - 22s 2ms/step - loss: 0.3902 - acc: 0.8035 - val_loss: 0.3813 - val_acc: 0.8066\n"
          ],
          "name": "stdout"
        }
      ]
    },
    {
      "cell_type": "code",
      "metadata": {
        "id": "qEh_wMz0vueQ",
        "colab_type": "code",
        "colab": {}
      },
      "source": [
        "score = model.evaluate(x_test, y_test, verbose = 0)"
      ],
      "execution_count": null,
      "outputs": []
    },
    {
      "cell_type": "code",
      "metadata": {
        "colab_type": "code",
        "id": "fXPAl3J4wm7j",
        "colab": {
          "base_uri": "https://localhost:8080/",
          "height": 50
        },
        "outputId": "ffb906aa-9ce9-448e-b7f3-18e028b8658b"
      },
      "source": [
        "print('Validation Loss :', score[0])\n",
        "print('Validation Accuracy :', score[1])"
      ],
      "execution_count": null,
      "outputs": [
        {
          "output_type": "stream",
          "text": [
            "Validation Loss : 0.3813340493610927\n",
            "Validation Accuracy : 0.8066318035125732\n"
          ],
          "name": "stdout"
        }
      ]
    },
    {
      "cell_type": "markdown",
      "metadata": {
        "id": "634h10mbfF1E",
        "colab_type": "text"
      },
      "source": [
        "# Sonuçları Değerlendirelim : "
      ]
    },
    {
      "cell_type": "code",
      "metadata": {
        "colab_type": "code",
        "id": "bzauyMHWlpI-",
        "colab": {
          "base_uri": "https://localhost:8080/",
          "height": 320
        },
        "outputId": "c7f6a3a9-0bd3-4c45-be3a-6b91955f4753"
      },
      "source": [
        "plt.style.use('ggplot')\n",
        "\n",
        "fig, ax = plt.subplots(2, 1, figsize=(12,5))\n",
        "ax[0].plot(history.history['loss'], label=\"Training loss\")\n",
        "ax[0].plot(history.history['val_loss'], label=\"Validation loss\",axes =ax[0])\n",
        "ax[0].grid(color='black', linestyle='-', linewidth=0.25)\n",
        "legend = ax[0].legend(loc='best', shadow=True)\n",
        "\n",
        "ax[1].plot(history.history['acc'], label=\"Training accuracy\")\n",
        "ax[1].plot(history.history['val_acc'], label=\"Validation accuracy\")\n",
        "ax[1].grid(color='black', linestyle='-', linewidth=0.25)\n",
        "legend = ax[1].legend(loc='best', shadow=True)"
      ],
      "execution_count": null,
      "outputs": [
        {
          "output_type": "display_data",
          "data": {
            "image/png": "[encoded data removed]",
            "text/plain": [
              "<Figure size 864x360 with 2 Axes>"
            ]
          },
          "metadata": {
            "tags": []
          }
        }
      ]
    }
  ]
}