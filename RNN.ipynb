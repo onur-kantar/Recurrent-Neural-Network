{
  "nbformat": 4,
  "nbformat_minor": 0,
  "metadata": {
    "colab": {
      "name": "RNN.ipynb",
      "provenance": [],
      "collapsed_sections": [],
      "toc_visible": true
    },
    "kernelspec": {
      "name": "python3",
      "display_name": "Python 3"
    }
  },
  "cells": [
    {
      "cell_type": "markdown",
      "metadata": {
        "colab_type": "text",
        "id": "NL4AaGJ0lpIG"
      },
      "source": [
        "# Ön Bilgi\n",
        "**Geliştiren :** Onur Kantar - Ömer Resul Ertan\n",
        "\n",
        "**Veri Kümesi Adı :** 17K Tweet\n",
        "\n",
        "**Veri Kümesinin İçeriği :** 3 farklı sınıfa ait toplamda 17000 tweet.\n",
        "\n",
        "**Tweet Sınıfları :** \n",
        "\n",
        "0. Nötr\n",
        "1. Olumlu\n",
        "2. Olumsuz\n",
        "\n",
        "**Veri Kümesi Referansı :** “Duygudurum Analizinde Kelimeler, Anlamlar, Karakterler”,  Mehmet Fatih Amasyali, Hakan Taşköprü, Kübra Çalışkan, Akıllı Sistemlerde Yenilikler ve Uygulamaları Sempozyumu (ASYU), 4-6 Ekim 2018, Adana.\n",
        "\n",
        "**Algoritma :** Recurrent Neural Network (RNN)\n",
        "\n",
        "**Ağ Mimarisi :** \n",
        "\n",
        "- SimpleRNN(2)\n",
        "- SimpleRNN(2)\n",
        "- Dense(20)\n",
        "\n",
        "**batch_size :** 2\n",
        "\n",
        "**epochs :** 5\n",
        "\n",
        "**Doğruluk Oranı :** %80\n",
        "\n",
        "\n",
        "---\n",
        "\n"
      ]
    },
    {
      "cell_type": "code",
      "metadata": {
        "colab_type": "code",
        "id": "qloBlNRclpIH",
        "colab": {
          "base_uri": "https://localhost:8080/",
          "height": 87
        },
        "outputId": "12affbc5-2310-4b36-b226-a28aad199eb8"
      },
      "source": [
        "import pandas as pd                     \n",
        "import re\n",
        "import nltk\n",
        "from nltk.corpus import stopwords\n",
        "import seaborn as sns\n",
        "from sklearn import preprocessing\n",
        "from sklearn.preprocessing import StandardScaler\n",
        "from keras.utils import to_categorical\n",
        "from sklearn.model_selection import train_test_split\n",
        "from keras.preprocessing.text import Tokenizer\n",
        "from keras.preprocessing.sequence import pad_sequences\n",
        "import numpy as np\n",
        "from sklearn.metrics import confusion_matrix\n",
        "from mlxtend.plotting import plot_confusion_matrix\n",
        "from keras.models import Sequential\n",
        "from keras.layers import Dense, Dropout, LSTM, SimpleRNN\n",
        "from sklearn.preprocessing import LabelEncoder\n",
        "import matplotlib.pyplot as plt"
      ],
      "execution_count": 1,
      "outputs": [
        {
          "output_type": "stream",
          "text": [
            "/usr/local/lib/python3.6/dist-packages/statsmodels/tools/_testing.py:19: FutureWarning: pandas.util.testing is deprecated. Use the functions in the public API at pandas.testing instead.\n",
            "  import pandas.util.testing as tm\n",
            "Using TensorFlow backend.\n"
          ],
          "name": "stderr"
        }
      ]
    },
    {
      "cell_type": "code",
      "metadata": {
        "colab_type": "code",
        "id": "o599qC6alpIL",
        "colab": {
          "base_uri": "https://localhost:8080/",
          "height": 402
        },
        "outputId": "9ccad5b8-40b5-4aea-f846-cae85c7bc896"
      },
      "source": [
        "df = pd.read_csv(\"/content/drive/My Drive/Colab Notebooks/Data Sets/17000tweet/17000tweet.csv\", sep=';', encoding=\"utf8\")\n",
        "df"
      ],
      "execution_count": 2,
      "outputs": [
        {
          "output_type": "execute_result",
          "data": {
            "text/html": [
              "<div>\n",
              "<style scoped>\n",
              "    .dataframe tbody tr th:only-of-type {\n",
              "        vertical-align: middle;\n",
              "    }\n",
              "\n",
              "    .dataframe tbody tr th {\n",
              "        vertical-align: top;\n",
              "    }\n",
              "\n",
              "    .dataframe thead th {\n",
              "        text-align: right;\n",
              "    }\n",
              "</style>\n",
              "<table border=\"1\" class=\"dataframe\">\n",
              "  <thead>\n",
              "    <tr style=\"text-align: right;\">\n",
              "      <th></th>\n",
              "      <th>tweet</th>\n",
              "      <th>durum</th>\n",
              "    </tr>\n",
              "  </thead>\n",
              "  <tbody>\n",
              "    <tr>\n",
              "      <th>0</th>\n",
              "      <td>Ulan Wifi'ye bağlıyım ben. Ona bağlıyken Turkc...</td>\n",
              "      <td>olumsuz</td>\n",
              "    </tr>\n",
              "    <tr>\n",
              "      <th>1</th>\n",
              "      <td>20 dk 1 GB internet 500 mb sadece kaşar turkce...</td>\n",
              "      <td>olumsuz</td>\n",
              "    </tr>\n",
              "    <tr>\n",
              "      <th>2</th>\n",
              "      <td>Ayrıca turkcell superonline reklamı kadar da k...</td>\n",
              "      <td>olumsuz</td>\n",
              "    </tr>\n",
              "    <tr>\n",
              "      <th>3</th>\n",
              "      <td>Turkcell çok pahalı ya</td>\n",
              "      <td>olumsuz</td>\n",
              "    </tr>\n",
              "    <tr>\n",
              "      <th>4</th>\n",
              "      <td>Turkcell Kaş'ta internetin cekmiyor</td>\n",
              "      <td>olumsuz</td>\n",
              "    </tr>\n",
              "    <tr>\n",
              "      <th>...</th>\n",
              "      <td>...</td>\n",
              "      <td>...</td>\n",
              "    </tr>\n",
              "    <tr>\n",
              "      <th>17284</th>\n",
              "      <td>@turktelekom kalite sıfır bi Turkcell değilsiniz</td>\n",
              "      <td>olumlu</td>\n",
              "    </tr>\n",
              "    <tr>\n",
              "      <th>17285</th>\n",
              "      <td>Turkcell ve Yandex Yerli Arama Motoru Üzerine ...</td>\n",
              "      <td>notr</td>\n",
              "    </tr>\n",
              "    <tr>\n",
              "      <th>17286</th>\n",
              "      <td>Turkcell yeni reklaminda altta kayan bilgilend...</td>\n",
              "      <td>notr</td>\n",
              "    </tr>\n",
              "    <tr>\n",
              "      <th>17287</th>\n",
              "      <td>Turkcell’de Yazılım Mühendisi maaşı hakkında b...</td>\n",
              "      <td>notr</td>\n",
              "    </tr>\n",
              "    <tr>\n",
              "      <th>17288</th>\n",
              "      <td>Turkcell’den büyük müjde ...&gt;&gt;</td>\n",
              "      <td>olumlu</td>\n",
              "    </tr>\n",
              "  </tbody>\n",
              "</table>\n",
              "<p>17289 rows × 2 columns</p>\n",
              "</div>"
            ],
            "text/plain": [
              "                                                   tweet    durum\n",
              "0      Ulan Wifi'ye bağlıyım ben. Ona bağlıyken Turkc...  olumsuz\n",
              "1      20 dk 1 GB internet 500 mb sadece kaşar turkce...  olumsuz\n",
              "2      Ayrıca turkcell superonline reklamı kadar da k...  olumsuz\n",
              "3                                 Turkcell çok pahalı ya  olumsuz\n",
              "4                    Turkcell Kaş'ta internetin cekmiyor  olumsuz\n",
              "...                                                  ...      ...\n",
              "17284   @turktelekom kalite sıfır bi Turkcell değilsiniz   olumlu\n",
              "17285  Turkcell ve Yandex Yerli Arama Motoru Üzerine ...     notr\n",
              "17286  Turkcell yeni reklaminda altta kayan bilgilend...     notr\n",
              "17287  Turkcell’de Yazılım Mühendisi maaşı hakkında b...     notr\n",
              "17288                     Turkcell’den büyük müjde ...>>   olumlu\n",
              "\n",
              "[17289 rows x 2 columns]"
            ]
          },
          "metadata": {
            "tags": []
          },
          "execution_count": 2
        }
      ]
    },
    {
      "cell_type": "markdown",
      "metadata": {
        "colab_type": "text",
        "id": "8_-ZD-7ZlpIN"
      },
      "source": [
        "# Veri Kümemizi Düzenleyelim : \n",
        "\n",
        "---\n",
        "\n"
      ]
    },
    {
      "cell_type": "markdown",
      "metadata": {
        "colab_type": "text",
        "id": "-KsJvXnMlpIN"
      },
      "source": [
        "### NULL Değerleri Silelim : "
      ]
    },
    {
      "cell_type": "code",
      "metadata": {
        "colab_type": "code",
        "id": "yGv-yE03lpIO",
        "colab": {
          "base_uri": "https://localhost:8080/",
          "height": 67
        },
        "outputId": "b5250119-a2ca-45dc-dc1f-4f23367b0a17"
      },
      "source": [
        "df.isnull().sum()"
      ],
      "execution_count": 3,
      "outputs": [
        {
          "output_type": "execute_result",
          "data": {
            "text/plain": [
              "tweet    0\n",
              "durum    0\n",
              "dtype: int64"
            ]
          },
          "metadata": {
            "tags": []
          },
          "execution_count": 3
        }
      ]
    },
    {
      "cell_type": "code",
      "metadata": {
        "colab_type": "code",
        "id": "pXfkwhj_lpIR",
        "colab": {}
      },
      "source": [
        "# NULL Değer Bulunmuyor.\n",
        "# df = df.dropna().reset_index(drop=True)\n",
        "# df.isnull().sum()"
      ],
      "execution_count": 4,
      "outputs": []
    },
    {
      "cell_type": "markdown",
      "metadata": {
        "colab_type": "text",
        "id": "jYx5fxJzlpIT"
      },
      "source": [
        "### Gereksiz Verileri Kaldıralım :  "
      ]
    },
    {
      "cell_type": "code",
      "metadata": {
        "colab_type": "code",
        "id": "76r7TW4ulpIT",
        "colab": {
          "base_uri": "https://localhost:8080/",
          "height": 941
        },
        "outputId": "bd12d8d8-de40-46e4-d1cc-66f8f21f1b2a"
      },
      "source": [
        "nltk.download('stopwords')\n",
        "stop_word_list = stopwords.words('turkish')\n",
        "stop_word_list"
      ],
      "execution_count": 5,
      "outputs": [
        {
          "output_type": "stream",
          "text": [
            "[nltk_data] Downloading package stopwords to /root/nltk_data...\n",
            "[nltk_data]   Package stopwords is already up-to-date!\n"
          ],
          "name": "stdout"
        },
        {
          "output_type": "execute_result",
          "data": {
            "text/plain": [
              "['acaba',\n",
              " 'ama',\n",
              " 'aslında',\n",
              " 'az',\n",
              " 'bazı',\n",
              " 'belki',\n",
              " 'biri',\n",
              " 'birkaç',\n",
              " 'birşey',\n",
              " 'biz',\n",
              " 'bu',\n",
              " 'çok',\n",
              " 'çünkü',\n",
              " 'da',\n",
              " 'daha',\n",
              " 'de',\n",
              " 'defa',\n",
              " 'diye',\n",
              " 'eğer',\n",
              " 'en',\n",
              " 'gibi',\n",
              " 'hem',\n",
              " 'hep',\n",
              " 'hepsi',\n",
              " 'her',\n",
              " 'hiç',\n",
              " 'için',\n",
              " 'ile',\n",
              " 'ise',\n",
              " 'kez',\n",
              " 'ki',\n",
              " 'kim',\n",
              " 'mı',\n",
              " 'mu',\n",
              " 'mü',\n",
              " 'nasıl',\n",
              " 'ne',\n",
              " 'neden',\n",
              " 'nerde',\n",
              " 'nerede',\n",
              " 'nereye',\n",
              " 'niçin',\n",
              " 'niye',\n",
              " 'o',\n",
              " 'sanki',\n",
              " 'şey',\n",
              " 'siz',\n",
              " 'şu',\n",
              " 'tüm',\n",
              " 've',\n",
              " 'veya',\n",
              " 'ya',\n",
              " 'yani']"
            ]
          },
          "metadata": {
            "tags": []
          },
          "execution_count": 5
        }
      ]
    },
    {
      "cell_type": "code",
      "metadata": {
        "colab_type": "code",
        "id": "ozl9y33mlpIW",
        "colab": {}
      },
      "source": [
        "def preprocess_text(sen):\n",
        "    \n",
        "    # URL Silme İşlemi\n",
        "    sentence = re.sub(r'http\\S+', '', str(sen))\n",
        "\n",
        "    # E-Mail Adresi Silme İşlemi\n",
        "    sentence = re.sub('\\S+@\\S+', '', str(sentence))\n",
        "\n",
        "    # Sayıları Silme İşlemi\n",
        "    sentence = re.sub('[\\d\\s]', ' ', str(sentence))\n",
        "\n",
        "    # Noktalama İşaretlerini Silme İşlemi\n",
        "    sentence = re.sub('[^\\w\\s]', ' ', str(sentence))\n",
        "    \n",
        "    # Tek Karakterleri Silme İşlemi\n",
        "    sentence = re.sub(r\"\\b[\\w\\s]\\b\", ' ',str(sentence))\n",
        "    \n",
        "    # Birden Çok Boşluğu Silme İşlemi\n",
        "    sentence = re.sub(r'\\s+', ' ', sentence)\n",
        "        \n",
        "    # Engellenecek Kelimeleri Silme İşlemi\n",
        "    WPT = nltk.WordPunctTokenizer()\n",
        "    tokens = WPT.tokenize(sentence)\n",
        "    filtered_tokens = [token for token in tokens if token not in stop_word_list]\n",
        "    single_doc = ' '.join(filtered_tokens)\n",
        "    \n",
        "    # Tüm Harfler Küçük Harfe Dönüştürülüyor\n",
        "    return single_doc.lower()"
      ],
      "execution_count": 6,
      "outputs": []
    },
    {
      "cell_type": "code",
      "metadata": {
        "colab_type": "code",
        "id": "wltak_vPlpIY",
        "colab": {}
      },
      "source": [
        "x = df['tweet']\n",
        "y = df['durum']"
      ],
      "execution_count": 7,
      "outputs": []
    },
    {
      "cell_type": "code",
      "metadata": {
        "colab_type": "code",
        "id": "EoVD0hfzlpIa",
        "colab": {
          "base_uri": "https://localhost:8080/",
          "height": 402
        },
        "outputId": "41eb0051-004f-4b28-f81b-ef591572b4a1"
      },
      "source": [
        "x = x.apply(preprocess_text)\n",
        "pd.DataFrame(x)"
      ],
      "execution_count": 8,
      "outputs": [
        {
          "output_type": "execute_result",
          "data": {
            "text/html": [
              "<div>\n",
              "<style scoped>\n",
              "    .dataframe tbody tr th:only-of-type {\n",
              "        vertical-align: middle;\n",
              "    }\n",
              "\n",
              "    .dataframe tbody tr th {\n",
              "        vertical-align: top;\n",
              "    }\n",
              "\n",
              "    .dataframe thead th {\n",
              "        text-align: right;\n",
              "    }\n",
              "</style>\n",
              "<table border=\"1\" class=\"dataframe\">\n",
              "  <thead>\n",
              "    <tr style=\"text-align: right;\">\n",
              "      <th></th>\n",
              "      <th>tweet</th>\n",
              "    </tr>\n",
              "  </thead>\n",
              "  <tbody>\n",
              "    <tr>\n",
              "      <th>0</th>\n",
              "      <td>ulan wifi ye bağlıyım ben ona bağlıyken turkce...</td>\n",
              "    </tr>\n",
              "    <tr>\n",
              "      <th>1</th>\n",
              "      <td>dk gb internet mb sadece kaşar turkcell düşer ...</td>\n",
              "    </tr>\n",
              "    <tr>\n",
              "      <th>2</th>\n",
              "      <td>ayrıca turkcell superonline reklamı kadar kötü...</td>\n",
              "    </tr>\n",
              "    <tr>\n",
              "      <th>3</th>\n",
              "      <td>turkcell pahalı</td>\n",
              "    </tr>\n",
              "    <tr>\n",
              "      <th>4</th>\n",
              "      <td>turkcell kaş ta internetin cekmiyor</td>\n",
              "    </tr>\n",
              "    <tr>\n",
              "      <th>...</th>\n",
              "      <td>...</td>\n",
              "    </tr>\n",
              "    <tr>\n",
              "      <th>17284</th>\n",
              "      <td>turktelekom kalite sıfır bi turkcell değilsiniz</td>\n",
              "    </tr>\n",
              "    <tr>\n",
              "      <th>17285</th>\n",
              "      <td>turkcell yandex yerli arama motoru üzerine çal...</td>\n",
              "    </tr>\n",
              "    <tr>\n",
              "      <th>17286</th>\n",
              "      <td>turkcell yeni reklaminda altta kayan bilgilend...</td>\n",
              "    </tr>\n",
              "    <tr>\n",
              "      <th>17287</th>\n",
              "      <td>turkcell yazılım mühendisi maaşı hakkında bilg...</td>\n",
              "    </tr>\n",
              "    <tr>\n",
              "      <th>17288</th>\n",
              "      <td>turkcell den büyük müjde</td>\n",
              "    </tr>\n",
              "  </tbody>\n",
              "</table>\n",
              "<p>17289 rows × 1 columns</p>\n",
              "</div>"
            ],
            "text/plain": [
              "                                                   tweet\n",
              "0      ulan wifi ye bağlıyım ben ona bağlıyken turkce...\n",
              "1      dk gb internet mb sadece kaşar turkcell düşer ...\n",
              "2      ayrıca turkcell superonline reklamı kadar kötü...\n",
              "3                                        turkcell pahalı\n",
              "4                    turkcell kaş ta internetin cekmiyor\n",
              "...                                                  ...\n",
              "17284    turktelekom kalite sıfır bi turkcell değilsiniz\n",
              "17285  turkcell yandex yerli arama motoru üzerine çal...\n",
              "17286  turkcell yeni reklaminda altta kayan bilgilend...\n",
              "17287  turkcell yazılım mühendisi maaşı hakkında bilg...\n",
              "17288                           turkcell den büyük müjde\n",
              "\n",
              "[17289 rows x 1 columns]"
            ]
          },
          "metadata": {
            "tags": []
          },
          "execution_count": 8
        }
      ]
    },
    {
      "cell_type": "code",
      "metadata": {
        "colab_type": "code",
        "id": "_AHPSoZ0lpIc",
        "colab": {
          "base_uri": "https://localhost:8080/",
          "height": 296
        },
        "outputId": "89dbdf85-dd2c-480f-9a8b-e984ec542ee7"
      },
      "source": [
        "sns.countplot(y)"
      ],
      "execution_count": 9,
      "outputs": [
        {
          "output_type": "execute_result",
          "data": {
            "text/plain": [
              "<matplotlib.axes._subplots.AxesSubplot at 0x7f5579ef45c0>"
            ]
          },
          "metadata": {
            "tags": []
          },
          "execution_count": 9
        },
        {
          "output_type": "display_data",
          "data": {
            "image/png": "[encoded data removed]",
            "text/plain": [
              "<Figure size 432x288 with 1 Axes>"
            ]
          },
          "metadata": {
            "tags": [],
            "needs_background": "light"
          }
        }
      ]
    },
    {
      "cell_type": "markdown",
      "metadata": {
        "colab_type": "text",
        "id": "Ti2Aa_rklpIe"
      },
      "source": [
        "## Kelimeleri Sayılara Dönüştürelim : \n",
        "\n",
        "Veri setimizin işlenebilmesi için text verileri numaralara çevirmemiz gerekir.\n"
      ]
    },
    {
      "cell_type": "code",
      "metadata": {
        "colab_type": "code",
        "id": "we_u4vvHlpIf",
        "colab": {}
      },
      "source": [
        "token = Tokenizer()\n",
        "# Her kelimenin sıklığını hesaplar\n",
        "token.fit_on_texts(x)\n",
        "# Tüm kelimeleri sayı dizisine dönüştürür\n",
        "x = token.texts_to_sequences(x)\n",
        "# Bütün metinlerimiz en uzun kelimeden oluşan metnimiz kadar sütundan oluşan (23) bir dizi ile temsil edilecek.\n",
        "# 23'den kısa metinlerin boşlukları 0'lar ile doldurulacak.\n",
        "x = pad_sequences(x)"
      ],
      "execution_count": 10,
      "outputs": []
    },
    {
      "cell_type": "code",
      "metadata": {
        "colab_type": "code",
        "id": "zv9MR7R5lpIi",
        "colab": {
          "base_uri": "https://localhost:8080/",
          "height": 215
        },
        "outputId": "2c31950f-f68d-4cae-eee6-00c7bf412374"
      },
      "source": [
        "pd.DataFrame(x).sample(5)"
      ],
      "execution_count": 11,
      "outputs": [
        {
          "output_type": "execute_result",
          "data": {
            "text/html": [
              "<div>\n",
              "<style scoped>\n",
              "    .dataframe tbody tr th:only-of-type {\n",
              "        vertical-align: middle;\n",
              "    }\n",
              "\n",
              "    .dataframe tbody tr th {\n",
              "        vertical-align: top;\n",
              "    }\n",
              "\n",
              "    .dataframe thead th {\n",
              "        text-align: right;\n",
              "    }\n",
              "</style>\n",
              "<table border=\"1\" class=\"dataframe\">\n",
              "  <thead>\n",
              "    <tr style=\"text-align: right;\">\n",
              "      <th></th>\n",
              "      <th>0</th>\n",
              "      <th>1</th>\n",
              "      <th>2</th>\n",
              "      <th>3</th>\n",
              "      <th>4</th>\n",
              "      <th>5</th>\n",
              "      <th>6</th>\n",
              "      <th>7</th>\n",
              "      <th>8</th>\n",
              "      <th>9</th>\n",
              "      <th>10</th>\n",
              "      <th>11</th>\n",
              "      <th>12</th>\n",
              "      <th>13</th>\n",
              "      <th>14</th>\n",
              "      <th>15</th>\n",
              "      <th>16</th>\n",
              "      <th>17</th>\n",
              "      <th>18</th>\n",
              "      <th>19</th>\n",
              "      <th>20</th>\n",
              "      <th>21</th>\n",
              "      <th>22</th>\n",
              "      <th>23</th>\n",
              "      <th>24</th>\n",
              "      <th>25</th>\n",
              "      <th>26</th>\n",
              "      <th>27</th>\n",
              "      <th>28</th>\n",
              "      <th>29</th>\n",
              "      <th>30</th>\n",
              "      <th>31</th>\n",
              "      <th>32</th>\n",
              "      <th>33</th>\n",
              "    </tr>\n",
              "  </thead>\n",
              "  <tbody>\n",
              "    <tr>\n",
              "      <th>276</th>\n",
              "      <td>0</td>\n",
              "      <td>0</td>\n",
              "      <td>0</td>\n",
              "      <td>0</td>\n",
              "      <td>0</td>\n",
              "      <td>0</td>\n",
              "      <td>0</td>\n",
              "      <td>0</td>\n",
              "      <td>0</td>\n",
              "      <td>0</td>\n",
              "      <td>0</td>\n",
              "      <td>0</td>\n",
              "      <td>0</td>\n",
              "      <td>0</td>\n",
              "      <td>0</td>\n",
              "      <td>0</td>\n",
              "      <td>0</td>\n",
              "      <td>0</td>\n",
              "      <td>0</td>\n",
              "      <td>0</td>\n",
              "      <td>0</td>\n",
              "      <td>0</td>\n",
              "      <td>0</td>\n",
              "      <td>49</td>\n",
              "      <td>902</td>\n",
              "      <td>105</td>\n",
              "      <td>1</td>\n",
              "      <td>19</td>\n",
              "      <td>1895</td>\n",
              "      <td>13760</td>\n",
              "      <td>8544</td>\n",
              "      <td>13761</td>\n",
              "      <td>469</td>\n",
              "      <td>11</td>\n",
              "    </tr>\n",
              "    <tr>\n",
              "      <th>8208</th>\n",
              "      <td>0</td>\n",
              "      <td>0</td>\n",
              "      <td>0</td>\n",
              "      <td>0</td>\n",
              "      <td>0</td>\n",
              "      <td>0</td>\n",
              "      <td>0</td>\n",
              "      <td>0</td>\n",
              "      <td>0</td>\n",
              "      <td>0</td>\n",
              "      <td>0</td>\n",
              "      <td>0</td>\n",
              "      <td>0</td>\n",
              "      <td>0</td>\n",
              "      <td>0</td>\n",
              "      <td>0</td>\n",
              "      <td>0</td>\n",
              "      <td>0</td>\n",
              "      <td>0</td>\n",
              "      <td>0</td>\n",
              "      <td>0</td>\n",
              "      <td>0</td>\n",
              "      <td>0</td>\n",
              "      <td>4126</td>\n",
              "      <td>352</td>\n",
              "      <td>430</td>\n",
              "      <td>24690</td>\n",
              "      <td>864</td>\n",
              "      <td>864</td>\n",
              "      <td>24691</td>\n",
              "      <td>1</td>\n",
              "      <td>93</td>\n",
              "      <td>11703</td>\n",
              "      <td>1370</td>\n",
              "    </tr>\n",
              "    <tr>\n",
              "      <th>14582</th>\n",
              "      <td>0</td>\n",
              "      <td>0</td>\n",
              "      <td>0</td>\n",
              "      <td>0</td>\n",
              "      <td>0</td>\n",
              "      <td>0</td>\n",
              "      <td>0</td>\n",
              "      <td>0</td>\n",
              "      <td>0</td>\n",
              "      <td>0</td>\n",
              "      <td>0</td>\n",
              "      <td>0</td>\n",
              "      <td>0</td>\n",
              "      <td>0</td>\n",
              "      <td>0</td>\n",
              "      <td>0</td>\n",
              "      <td>1</td>\n",
              "      <td>1444</td>\n",
              "      <td>2354</td>\n",
              "      <td>2</td>\n",
              "      <td>5</td>\n",
              "      <td>34387</td>\n",
              "      <td>6</td>\n",
              "      <td>2845</td>\n",
              "      <td>34388</td>\n",
              "      <td>3623</td>\n",
              "      <td>2029</td>\n",
              "      <td>8180</td>\n",
              "      <td>6</td>\n",
              "      <td>3623</td>\n",
              "      <td>104</td>\n",
              "      <td>1934</td>\n",
              "      <td>66</td>\n",
              "      <td>9451</td>\n",
              "    </tr>\n",
              "    <tr>\n",
              "      <th>2423</th>\n",
              "      <td>0</td>\n",
              "      <td>0</td>\n",
              "      <td>0</td>\n",
              "      <td>0</td>\n",
              "      <td>0</td>\n",
              "      <td>0</td>\n",
              "      <td>0</td>\n",
              "      <td>0</td>\n",
              "      <td>0</td>\n",
              "      <td>0</td>\n",
              "      <td>0</td>\n",
              "      <td>0</td>\n",
              "      <td>0</td>\n",
              "      <td>0</td>\n",
              "      <td>0</td>\n",
              "      <td>0</td>\n",
              "      <td>0</td>\n",
              "      <td>0</td>\n",
              "      <td>0</td>\n",
              "      <td>0</td>\n",
              "      <td>16</td>\n",
              "      <td>229</td>\n",
              "      <td>1430</td>\n",
              "      <td>1574</td>\n",
              "      <td>2657</td>\n",
              "      <td>1</td>\n",
              "      <td>3</td>\n",
              "      <td>243</td>\n",
              "      <td>193</td>\n",
              "      <td>6969</td>\n",
              "      <td>6970</td>\n",
              "      <td>17264</td>\n",
              "      <td>9705</td>\n",
              "      <td>5421</td>\n",
              "    </tr>\n",
              "    <tr>\n",
              "      <th>2452</th>\n",
              "      <td>0</td>\n",
              "      <td>0</td>\n",
              "      <td>0</td>\n",
              "      <td>0</td>\n",
              "      <td>0</td>\n",
              "      <td>0</td>\n",
              "      <td>0</td>\n",
              "      <td>0</td>\n",
              "      <td>0</td>\n",
              "      <td>0</td>\n",
              "      <td>0</td>\n",
              "      <td>0</td>\n",
              "      <td>0</td>\n",
              "      <td>0</td>\n",
              "      <td>0</td>\n",
              "      <td>0</td>\n",
              "      <td>0</td>\n",
              "      <td>0</td>\n",
              "      <td>1580</td>\n",
              "      <td>380</td>\n",
              "      <td>3224</td>\n",
              "      <td>5429</td>\n",
              "      <td>9721</td>\n",
              "      <td>55</td>\n",
              "      <td>9722</td>\n",
              "      <td>9</td>\n",
              "      <td>5270</td>\n",
              "      <td>2</td>\n",
              "      <td>9723</td>\n",
              "      <td>1</td>\n",
              "      <td>545</td>\n",
              "      <td>6979</td>\n",
              "      <td>6980</td>\n",
              "      <td>3771</td>\n",
              "    </tr>\n",
              "  </tbody>\n",
              "</table>\n",
              "</div>"
            ],
            "text/plain": [
              "       0   1   2   3   4   5   6   ...    27    28     29    30     31     32    33\n",
              "276     0   0   0   0   0   0   0  ...    19  1895  13760  8544  13761    469    11\n",
              "8208    0   0   0   0   0   0   0  ...   864   864  24691     1     93  11703  1370\n",
              "14582   0   0   0   0   0   0   0  ...  8180     6   3623   104   1934     66  9451\n",
              "2423    0   0   0   0   0   0   0  ...   243   193   6969  6970  17264   9705  5421\n",
              "2452    0   0   0   0   0   0   0  ...     2  9723      1   545   6979   6980  3771\n",
              "\n",
              "[5 rows x 34 columns]"
            ]
          },
          "metadata": {
            "tags": []
          },
          "execution_count": 11
        }
      ]
    },
    {
      "cell_type": "markdown",
      "metadata": {
        "id": "Vk4Jl0NvjbwZ",
        "colab_type": "text"
      },
      "source": [
        "# X Verilerimizi Düzenleyelim : \n",
        "\n",
        "---"
      ]
    },
    {
      "cell_type": "markdown",
      "metadata": {
        "colab_type": "text",
        "id": "ujmA-hy0lpIl"
      },
      "source": [
        "\n",
        "\n",
        "## Ölçeklendirelim\n",
        "\n",
        "**Verileri Ölçeklendirme Nedir?**\n",
        "\n",
        "Ölçeklendirme dediğimiz şey veri setindeki iki farklı özelliğin (değişkenin) değerlerini en doğru şekilde analiz edebilmemize olanak sağlayan bir yöntemdir.\n",
        "\n",
        "- Verilerinizin dağılımının ortalama değeri 0 ve standart sapma değeri 1 olacak şekilde değiştiriyoruz (Standartlaştırma).\n",
        "- Tutarlılık oluşuyor. Bir veri diğer verilerden daha büyükse diğerleri üzerinde egemenlik kurabilir. Bunu istemeyiz.\n",
        "- Bir öğrenme modeliyle çalışırken, özellikleri sıfır merkezli bir aralığa ölçeklemek önemlidir.\n",
        "- Değerleri karşılaştırmak yerine oranları karşılaştırmış oluruz.\n",
        "\n",
        "**Örnek :**\n",
        "\n",
        "İki farklı insan düşünelim. Bu insanların birisinin geliri ayda 5.000 Türk Lirası iken diğerinin geliri ayda 200.000 Türk Lirası olsun. Bu insanların ikisi de her ay belirli miktarda maddi yardım için maaşlarının bir kısmını ayırıyorlar. Diyelim ki 5.000 Türk Lirası maaşı olan şahıs 1.500 Türk Lirasını yardıma ayırıyorken, 200.000 Türk Lirası alan şahıs 10.000 Türk Lirasını yardım için ayırıyor.\n",
        "\n",
        "Normal bir gözle bakarsak 10.000 Türk Lirası yardımda bulunan kişinin daha fazla yardım yaptığını görürüz. Fakat bunu oranladığımızda 5.000 Türk Lirası alan kişinin oransal olarak kat kat fazla yardım yaptığı anlaşılacaktır. İşte özellik ölçeklendirme ile biz bu özelliklerin sayısal değerlerinin birbirine yakın olmasını sağlayıp aralarındaki değerleri karşılaştırmak yerine oranları karşılaştırırız."
      ]
    },
    {
      "cell_type": "code",
      "metadata": {
        "colab_type": "code",
        "id": "wg1pxq2_lpIl",
        "colab": {}
      },
      "source": [
        "scaler = StandardScaler()\n",
        "x = scaler.fit_transform(x)"
      ],
      "execution_count": 12,
      "outputs": []
    },
    {
      "cell_type": "code",
      "metadata": {
        "colab_type": "code",
        "id": "j6IapSw9lpIn",
        "colab": {
          "base_uri": "https://localhost:8080/",
          "height": 215
        },
        "outputId": "df6944d5-415f-49aa-e416-c89767c00791"
      },
      "source": [
        "pd.DataFrame(x).sample(5)"
      ],
      "execution_count": 13,
      "outputs": [
        {
          "output_type": "execute_result",
          "data": {
            "text/html": [
              "<div>\n",
              "<style scoped>\n",
              "    .dataframe tbody tr th:only-of-type {\n",
              "        vertical-align: middle;\n",
              "    }\n",
              "\n",
              "    .dataframe tbody tr th {\n",
              "        vertical-align: top;\n",
              "    }\n",
              "\n",
              "    .dataframe thead th {\n",
              "        text-align: right;\n",
              "    }\n",
              "</style>\n",
              "<table border=\"1\" class=\"dataframe\">\n",
              "  <thead>\n",
              "    <tr style=\"text-align: right;\">\n",
              "      <th></th>\n",
              "      <th>0</th>\n",
              "      <th>1</th>\n",
              "      <th>2</th>\n",
              "      <th>3</th>\n",
              "      <th>4</th>\n",
              "      <th>5</th>\n",
              "      <th>6</th>\n",
              "      <th>7</th>\n",
              "      <th>8</th>\n",
              "      <th>9</th>\n",
              "      <th>10</th>\n",
              "      <th>11</th>\n",
              "      <th>12</th>\n",
              "      <th>13</th>\n",
              "      <th>14</th>\n",
              "      <th>15</th>\n",
              "      <th>16</th>\n",
              "      <th>17</th>\n",
              "      <th>18</th>\n",
              "      <th>19</th>\n",
              "      <th>20</th>\n",
              "      <th>21</th>\n",
              "      <th>22</th>\n",
              "      <th>23</th>\n",
              "      <th>24</th>\n",
              "      <th>25</th>\n",
              "      <th>26</th>\n",
              "      <th>27</th>\n",
              "      <th>28</th>\n",
              "      <th>29</th>\n",
              "      <th>30</th>\n",
              "      <th>31</th>\n",
              "      <th>32</th>\n",
              "      <th>33</th>\n",
              "    </tr>\n",
              "  </thead>\n",
              "  <tbody>\n",
              "    <tr>\n",
              "      <th>11901</th>\n",
              "      <td>-0.010048</td>\n",
              "      <td>-0.011655</td>\n",
              "      <td>-0.01427</td>\n",
              "      <td>-0.016171</td>\n",
              "      <td>-0.012827</td>\n",
              "      <td>-0.017271</td>\n",
              "      <td>-0.016625</td>\n",
              "      <td>-0.016696</td>\n",
              "      <td>-0.013299</td>\n",
              "      <td>-0.012942</td>\n",
              "      <td>-0.015501</td>\n",
              "      <td>-0.013686</td>\n",
              "      <td>-0.015609</td>\n",
              "      <td>-0.022705</td>\n",
              "      <td>-0.039869</td>\n",
              "      <td>-0.06676</td>\n",
              "      <td>-0.091482</td>\n",
              "      <td>-0.129172</td>\n",
              "      <td>-0.173459</td>\n",
              "      <td>-0.208795</td>\n",
              "      <td>-0.246425</td>\n",
              "      <td>-0.286303</td>\n",
              "      <td>-0.319853</td>\n",
              "      <td>-0.347441</td>\n",
              "      <td>-0.257220</td>\n",
              "      <td>-0.393640</td>\n",
              "      <td>3.493475</td>\n",
              "      <td>-0.440439</td>\n",
              "      <td>-0.255829</td>\n",
              "      <td>-0.270879</td>\n",
              "      <td>-0.531138</td>\n",
              "      <td>-0.578362</td>\n",
              "      <td>2.691885</td>\n",
              "      <td>-0.355302</td>\n",
              "    </tr>\n",
              "    <tr>\n",
              "      <th>12175</th>\n",
              "      <td>-0.010048</td>\n",
              "      <td>-0.011655</td>\n",
              "      <td>-0.01427</td>\n",
              "      <td>-0.016171</td>\n",
              "      <td>-0.012827</td>\n",
              "      <td>-0.017271</td>\n",
              "      <td>-0.016625</td>\n",
              "      <td>-0.016696</td>\n",
              "      <td>-0.013299</td>\n",
              "      <td>-0.012942</td>\n",
              "      <td>-0.015501</td>\n",
              "      <td>-0.013686</td>\n",
              "      <td>-0.015609</td>\n",
              "      <td>-0.022705</td>\n",
              "      <td>-0.039869</td>\n",
              "      <td>-0.06676</td>\n",
              "      <td>-0.091482</td>\n",
              "      <td>-0.129172</td>\n",
              "      <td>-0.173459</td>\n",
              "      <td>-0.208795</td>\n",
              "      <td>-0.246425</td>\n",
              "      <td>-0.286303</td>\n",
              "      <td>-0.319853</td>\n",
              "      <td>-0.347441</td>\n",
              "      <td>-0.389669</td>\n",
              "      <td>-0.424845</td>\n",
              "      <td>-0.445354</td>\n",
              "      <td>-0.432770</td>\n",
              "      <td>-0.336514</td>\n",
              "      <td>-0.495440</td>\n",
              "      <td>-0.548488</td>\n",
              "      <td>-0.034589</td>\n",
              "      <td>-0.576601</td>\n",
              "      <td>-0.664554</td>\n",
              "    </tr>\n",
              "    <tr>\n",
              "      <th>11935</th>\n",
              "      <td>-0.010048</td>\n",
              "      <td>-0.011655</td>\n",
              "      <td>-0.01427</td>\n",
              "      <td>-0.016171</td>\n",
              "      <td>-0.012827</td>\n",
              "      <td>-0.017271</td>\n",
              "      <td>-0.016625</td>\n",
              "      <td>-0.016696</td>\n",
              "      <td>-0.013299</td>\n",
              "      <td>-0.012942</td>\n",
              "      <td>-0.015501</td>\n",
              "      <td>-0.013686</td>\n",
              "      <td>-0.015609</td>\n",
              "      <td>-0.022705</td>\n",
              "      <td>-0.039869</td>\n",
              "      <td>-0.06676</td>\n",
              "      <td>-0.091482</td>\n",
              "      <td>-0.129172</td>\n",
              "      <td>-0.173459</td>\n",
              "      <td>-0.208795</td>\n",
              "      <td>-0.246425</td>\n",
              "      <td>-0.286303</td>\n",
              "      <td>-0.319853</td>\n",
              "      <td>-0.347290</td>\n",
              "      <td>-0.264554</td>\n",
              "      <td>1.268634</td>\n",
              "      <td>0.624512</td>\n",
              "      <td>1.086738</td>\n",
              "      <td>-0.428308</td>\n",
              "      <td>-0.512571</td>\n",
              "      <td>0.903178</td>\n",
              "      <td>-0.563039</td>\n",
              "      <td>2.696638</td>\n",
              "      <td>-0.447411</td>\n",
              "    </tr>\n",
              "    <tr>\n",
              "      <th>5155</th>\n",
              "      <td>-0.010048</td>\n",
              "      <td>-0.011655</td>\n",
              "      <td>-0.01427</td>\n",
              "      <td>-0.016171</td>\n",
              "      <td>-0.012827</td>\n",
              "      <td>-0.017271</td>\n",
              "      <td>-0.016625</td>\n",
              "      <td>-0.016696</td>\n",
              "      <td>-0.013299</td>\n",
              "      <td>-0.012942</td>\n",
              "      <td>-0.015501</td>\n",
              "      <td>-0.013686</td>\n",
              "      <td>-0.015609</td>\n",
              "      <td>-0.022705</td>\n",
              "      <td>-0.039869</td>\n",
              "      <td>-0.06676</td>\n",
              "      <td>-0.091482</td>\n",
              "      <td>-0.129172</td>\n",
              "      <td>-0.173459</td>\n",
              "      <td>-0.208795</td>\n",
              "      <td>-0.246425</td>\n",
              "      <td>-0.286303</td>\n",
              "      <td>-0.319853</td>\n",
              "      <td>-0.329146</td>\n",
              "      <td>-0.388259</td>\n",
              "      <td>-0.424714</td>\n",
              "      <td>0.943744</td>\n",
              "      <td>-0.243486</td>\n",
              "      <td>1.963133</td>\n",
              "      <td>-0.122414</td>\n",
              "      <td>-0.440106</td>\n",
              "      <td>-0.461601</td>\n",
              "      <td>-0.520745</td>\n",
              "      <td>-0.664554</td>\n",
              "    </tr>\n",
              "    <tr>\n",
              "      <th>14428</th>\n",
              "      <td>-0.010048</td>\n",
              "      <td>-0.011655</td>\n",
              "      <td>-0.01427</td>\n",
              "      <td>-0.016171</td>\n",
              "      <td>-0.012827</td>\n",
              "      <td>-0.017271</td>\n",
              "      <td>-0.016625</td>\n",
              "      <td>-0.016696</td>\n",
              "      <td>-0.013299</td>\n",
              "      <td>-0.012942</td>\n",
              "      <td>-0.015501</td>\n",
              "      <td>-0.013686</td>\n",
              "      <td>-0.015609</td>\n",
              "      <td>-0.022705</td>\n",
              "      <td>-0.039869</td>\n",
              "      <td>-0.06676</td>\n",
              "      <td>-0.091482</td>\n",
              "      <td>-0.129172</td>\n",
              "      <td>-0.173459</td>\n",
              "      <td>-0.208795</td>\n",
              "      <td>-0.246425</td>\n",
              "      <td>-0.286303</td>\n",
              "      <td>-0.319853</td>\n",
              "      <td>4.818712</td>\n",
              "      <td>-0.367383</td>\n",
              "      <td>0.136720</td>\n",
              "      <td>0.238236</td>\n",
              "      <td>-0.483408</td>\n",
              "      <td>-0.509344</td>\n",
              "      <td>-0.520146</td>\n",
              "      <td>-0.552093</td>\n",
              "      <td>0.283970</td>\n",
              "      <td>3.082660</td>\n",
              "      <td>2.634495</td>\n",
              "    </tr>\n",
              "  </tbody>\n",
              "</table>\n",
              "</div>"
            ],
            "text/plain": [
              "             0         1        2   ...        31        32        33\n",
              "11901 -0.010048 -0.011655 -0.01427  ... -0.578362  2.691885 -0.355302\n",
              "12175 -0.010048 -0.011655 -0.01427  ... -0.034589 -0.576601 -0.664554\n",
              "11935 -0.010048 -0.011655 -0.01427  ... -0.563039  2.696638 -0.447411\n",
              "5155  -0.010048 -0.011655 -0.01427  ... -0.461601 -0.520745 -0.664554\n",
              "14428 -0.010048 -0.011655 -0.01427  ...  0.283970  3.082660  2.634495\n",
              "\n",
              "[5 rows x 34 columns]"
            ]
          },
          "metadata": {
            "tags": []
          },
          "execution_count": 13
        }
      ]
    },
    {
      "cell_type": "markdown",
      "metadata": {
        "id": "tKpx9tooeHQC",
        "colab_type": "text"
      },
      "source": [
        "## RNN için x'i 3 Boyutlu Hale Getirelim"
      ]
    },
    {
      "cell_type": "code",
      "metadata": {
        "id": "L5e2z9_leTM4",
        "colab_type": "code",
        "colab": {
          "base_uri": "https://localhost:8080/",
          "height": 34
        },
        "outputId": "60b72068-219e-4d6d-fdab-7741c0585ac6"
      },
      "source": [
        "print('x : ' + str(x.shape))"
      ],
      "execution_count": 14,
      "outputs": [
        {
          "output_type": "stream",
          "text": [
            "x : (17289, 34)\n"
          ],
          "name": "stdout"
        }
      ]
    },
    {
      "cell_type": "code",
      "metadata": {
        "id": "dYnjb3fleOTh",
        "colab_type": "code",
        "colab": {
          "base_uri": "https://localhost:8080/",
          "height": 34
        },
        "outputId": "fa51470a-f583-49d1-fe32-e692ca9eef41"
      },
      "source": [
        "x = np.reshape(x, (x.shape[0], x.shape[1], 1))\n",
        "print('x : ' + str(x.shape))"
      ],
      "execution_count": 15,
      "outputs": [
        {
          "output_type": "stream",
          "text": [
            "x : (17289, 34, 1)\n"
          ],
          "name": "stdout"
        }
      ]
    },
    {
      "cell_type": "markdown",
      "metadata": {
        "id": "DEpOmh-jjXoK",
        "colab_type": "text"
      },
      "source": [
        "# Y Verilerimizi Düzenleyelim :  \n",
        "\n",
        "\n",
        "---"
      ]
    },
    {
      "cell_type": "markdown",
      "metadata": {
        "colab_type": "text",
        "id": "sdeBXtDklpIu"
      },
      "source": [
        "## One Hot Encoding Uygulayalım\n",
        "\n",
        "**One Hot Encoding Nedir?**\n",
        "\n",
        "One Hot Encoding, kategorik değişkenlerin ikili (binary) olarak temsil edilmesi anlamına gelmektedir. Bu işlem, ağın model için problemi daha kolay hale getirmesine yardımcı olabilir. \n",
        "\n",
        "\n",
        "- Bu işlem ilk önce kategorik değerlerin tamsayı değerleriyle eşlenmesini gerektirir.\n",
        "- Daha sonra, her bir tamsayı değeri, 1 ile işaretlenmiş tamsayı indeksi dışındaki tüm değerleri   sıfır  olan bir ikili vektör olarak temsil edilir."
      ]
    },
    {
      "cell_type": "code",
      "metadata": {
        "colab_type": "code",
        "id": "2Yb34cQylpIv",
        "colab": {
          "base_uri": "https://localhost:8080/",
          "height": 195
        },
        "outputId": "62364ab8-5def-422b-a523-34898f2b2902"
      },
      "source": [
        "pd.DataFrame(y).sample(5)"
      ],
      "execution_count": 16,
      "outputs": [
        {
          "output_type": "execute_result",
          "data": {
            "text/html": [
              "<div>\n",
              "<style scoped>\n",
              "    .dataframe tbody tr th:only-of-type {\n",
              "        vertical-align: middle;\n",
              "    }\n",
              "\n",
              "    .dataframe tbody tr th {\n",
              "        vertical-align: top;\n",
              "    }\n",
              "\n",
              "    .dataframe thead th {\n",
              "        text-align: right;\n",
              "    }\n",
              "</style>\n",
              "<table border=\"1\" class=\"dataframe\">\n",
              "  <thead>\n",
              "    <tr style=\"text-align: right;\">\n",
              "      <th></th>\n",
              "      <th>durum</th>\n",
              "    </tr>\n",
              "  </thead>\n",
              "  <tbody>\n",
              "    <tr>\n",
              "      <th>441</th>\n",
              "      <td>olumsuz</td>\n",
              "    </tr>\n",
              "    <tr>\n",
              "      <th>12677</th>\n",
              "      <td>notr</td>\n",
              "    </tr>\n",
              "    <tr>\n",
              "      <th>5762</th>\n",
              "      <td>olumlu</td>\n",
              "    </tr>\n",
              "    <tr>\n",
              "      <th>13284</th>\n",
              "      <td>olumsuz</td>\n",
              "    </tr>\n",
              "    <tr>\n",
              "      <th>630</th>\n",
              "      <td>olumsuz</td>\n",
              "    </tr>\n",
              "  </tbody>\n",
              "</table>\n",
              "</div>"
            ],
            "text/plain": [
              "         durum\n",
              "441    olumsuz\n",
              "12677     notr\n",
              "5762    olumlu\n",
              "13284  olumsuz\n",
              "630    olumsuz"
            ]
          },
          "metadata": {
            "tags": []
          },
          "execution_count": 16
        }
      ]
    },
    {
      "cell_type": "code",
      "metadata": {
        "id": "A3TLS4Ag-Zun",
        "colab_type": "code",
        "colab": {
          "base_uri": "https://localhost:8080/",
          "height": 195
        },
        "outputId": "6dd444cc-e269-4a07-f901-fae777afa2b4"
      },
      "source": [
        "le = preprocessing.LabelEncoder()\n",
        "y = le.fit_transform(y)\n",
        "pd.DataFrame(y).sample(5)"
      ],
      "execution_count": 17,
      "outputs": [
        {
          "output_type": "execute_result",
          "data": {
            "text/html": [
              "<div>\n",
              "<style scoped>\n",
              "    .dataframe tbody tr th:only-of-type {\n",
              "        vertical-align: middle;\n",
              "    }\n",
              "\n",
              "    .dataframe tbody tr th {\n",
              "        vertical-align: top;\n",
              "    }\n",
              "\n",
              "    .dataframe thead th {\n",
              "        text-align: right;\n",
              "    }\n",
              "</style>\n",
              "<table border=\"1\" class=\"dataframe\">\n",
              "  <thead>\n",
              "    <tr style=\"text-align: right;\">\n",
              "      <th></th>\n",
              "      <th>0</th>\n",
              "    </tr>\n",
              "  </thead>\n",
              "  <tbody>\n",
              "    <tr>\n",
              "      <th>7789</th>\n",
              "      <td>1</td>\n",
              "    </tr>\n",
              "    <tr>\n",
              "      <th>14559</th>\n",
              "      <td>2</td>\n",
              "    </tr>\n",
              "    <tr>\n",
              "      <th>16215</th>\n",
              "      <td>0</td>\n",
              "    </tr>\n",
              "    <tr>\n",
              "      <th>3370</th>\n",
              "      <td>2</td>\n",
              "    </tr>\n",
              "    <tr>\n",
              "      <th>1981</th>\n",
              "      <td>2</td>\n",
              "    </tr>\n",
              "  </tbody>\n",
              "</table>\n",
              "</div>"
            ],
            "text/plain": [
              "       0\n",
              "7789   1\n",
              "14559  2\n",
              "16215  0\n",
              "3370   2\n",
              "1981   2"
            ]
          },
          "metadata": {
            "tags": []
          },
          "execution_count": 17
        }
      ]
    },
    {
      "cell_type": "code",
      "metadata": {
        "colab_type": "code",
        "id": "srANFZ8vlpIx",
        "colab": {
          "base_uri": "https://localhost:8080/",
          "height": 195
        },
        "outputId": "6a7efb2e-06e8-4f9b-aabb-bb9e627a1f33"
      },
      "source": [
        "y = to_categorical(y)\n",
        "pd.DataFrame(y).sample(5)"
      ],
      "execution_count": 18,
      "outputs": [
        {
          "output_type": "execute_result",
          "data": {
            "text/html": [
              "<div>\n",
              "<style scoped>\n",
              "    .dataframe tbody tr th:only-of-type {\n",
              "        vertical-align: middle;\n",
              "    }\n",
              "\n",
              "    .dataframe tbody tr th {\n",
              "        vertical-align: top;\n",
              "    }\n",
              "\n",
              "    .dataframe thead th {\n",
              "        text-align: right;\n",
              "    }\n",
              "</style>\n",
              "<table border=\"1\" class=\"dataframe\">\n",
              "  <thead>\n",
              "    <tr style=\"text-align: right;\">\n",
              "      <th></th>\n",
              "      <th>0</th>\n",
              "      <th>1</th>\n",
              "      <th>2</th>\n",
              "    </tr>\n",
              "  </thead>\n",
              "  <tbody>\n",
              "    <tr>\n",
              "      <th>2260</th>\n",
              "      <td>0.0</td>\n",
              "      <td>0.0</td>\n",
              "      <td>1.0</td>\n",
              "    </tr>\n",
              "    <tr>\n",
              "      <th>10833</th>\n",
              "      <td>1.0</td>\n",
              "      <td>0.0</td>\n",
              "      <td>0.0</td>\n",
              "    </tr>\n",
              "    <tr>\n",
              "      <th>15298</th>\n",
              "      <td>0.0</td>\n",
              "      <td>1.0</td>\n",
              "      <td>0.0</td>\n",
              "    </tr>\n",
              "    <tr>\n",
              "      <th>10869</th>\n",
              "      <td>1.0</td>\n",
              "      <td>0.0</td>\n",
              "      <td>0.0</td>\n",
              "    </tr>\n",
              "    <tr>\n",
              "      <th>8981</th>\n",
              "      <td>1.0</td>\n",
              "      <td>0.0</td>\n",
              "      <td>0.0</td>\n",
              "    </tr>\n",
              "  </tbody>\n",
              "</table>\n",
              "</div>"
            ],
            "text/plain": [
              "         0    1    2\n",
              "2260   0.0  0.0  1.0\n",
              "10833  1.0  0.0  0.0\n",
              "15298  0.0  1.0  0.0\n",
              "10869  1.0  0.0  0.0\n",
              "8981   1.0  0.0  0.0"
            ]
          },
          "metadata": {
            "tags": []
          },
          "execution_count": 18
        }
      ]
    },
    {
      "cell_type": "markdown",
      "metadata": {
        "colab_type": "text",
        "id": "qQP6zVI0lpIz"
      },
      "source": [
        "# Train ve Test İşlemleri İçin Ayrımı Gerçekleştirelim : \n",
        "\n",
        "---\n"
      ]
    },
    {
      "cell_type": "code",
      "metadata": {
        "colab_type": "code",
        "id": "dPa6Bxk6lpI0",
        "colab": {}
      },
      "source": [
        "x_train, x_test, y_train, y_test = train_test_split(x, y, test_size = 0.2, random_state = 42)"
      ],
      "execution_count": 19,
      "outputs": []
    },
    {
      "cell_type": "code",
      "metadata": {
        "colab_type": "code",
        "id": "uiDegNTLlpI2",
        "colab": {
          "base_uri": "https://localhost:8080/",
          "height": 84
        },
        "outputId": "05a41881-8f65-4b3b-fa57-771cba960455"
      },
      "source": [
        "print('x Train : ' + str(x_train.shape))\n",
        "print('x Test : ' + str(x_test.shape))\n",
        "print('y Train : ' + str(y_train.shape))\n",
        "print('y Test : ' + str(y_test.shape))"
      ],
      "execution_count": 20,
      "outputs": [
        {
          "output_type": "stream",
          "text": [
            "x Train : (13831, 34, 1)\n",
            "x Test : (3458, 34, 1)\n",
            "y Train : (13831, 3)\n",
            "y Test : (3458, 3)\n"
          ],
          "name": "stdout"
        }
      ]
    },
    {
      "cell_type": "markdown",
      "metadata": {
        "id": "zl4502b3edzQ",
        "colab_type": "text"
      },
      "source": [
        "# Katmanları Oluşturup Eğitime Başlayalım : "
      ]
    },
    {
      "cell_type": "code",
      "metadata": {
        "colab_type": "code",
        "id": "tYbP8lNMlpI4",
        "colab": {
          "base_uri": "https://localhost:8080/",
          "height": 370
        },
        "outputId": "df3755e3-c3d0-4dc8-e0f9-afe2a34cb125"
      },
      "source": [
        "model = Sequential()\n",
        "\n",
        "model.add(SimpleRNN(units = 50, activation = \"relu\", use_bias = True, return_sequences = True, input_shape = (x_train.shape[1], 1)))\n",
        "\n",
        "model.add(SimpleRNN(units = 50, activation = \"relu\", use_bias = True))\n",
        "\n",
        "model.add(Dense(250, activation = \"relu\"))\n",
        "\n",
        "model.add(Dense(3, activation = \"sigmoid\"))\n",
        "\n",
        "model.compile(loss='binary_crossentropy', optimizer='adam', metrics=['acc'])\n",
        "\n",
        "history = model.fit(x_train, y_train, batch_size = 8, epochs = 10, verbose = 1, validation_data = (x_test, y_test))"
      ],
      "execution_count": 21,
      "outputs": [
        {
          "output_type": "stream",
          "text": [
            "Train on 13831 samples, validate on 3458 samples\n",
            "Epoch 1/10\n",
            "13831/13831 [==============================] - 26s 2ms/step - loss: 0.5766 - acc: 0.7000 - val_loss: 0.5248 - val_acc: 0.7391\n",
            "Epoch 2/10\n",
            "13831/13831 [==============================] - 25s 2ms/step - loss: 0.4799 - acc: 0.7602 - val_loss: 0.4672 - val_acc: 0.7743\n",
            "Epoch 3/10\n",
            "13831/13831 [==============================] - 25s 2ms/step - loss: 0.4423 - acc: 0.7781 - val_loss: 0.4355 - val_acc: 0.7794\n",
            "Epoch 4/10\n",
            "13831/13831 [==============================] - 25s 2ms/step - loss: 0.4256 - acc: 0.7856 - val_loss: 0.5050 - val_acc: 0.7609\n",
            "Epoch 5/10\n",
            "13831/13831 [==============================] - 26s 2ms/step - loss: 0.4149 - acc: 0.7929 - val_loss: 0.4159 - val_acc: 0.7889\n",
            "Epoch 6/10\n",
            "13831/13831 [==============================] - 25s 2ms/step - loss: 0.4083 - acc: 0.7938 - val_loss: 0.4178 - val_acc: 0.7906\n",
            "Epoch 7/10\n",
            "13831/13831 [==============================] - 25s 2ms/step - loss: 0.3990 - acc: 0.7990 - val_loss: 0.4210 - val_acc: 0.7926\n",
            "Epoch 8/10\n",
            "13831/13831 [==============================] - 25s 2ms/step - loss: 0.3946 - acc: 0.8007 - val_loss: 0.3884 - val_acc: 0.8044\n",
            "Epoch 9/10\n",
            "13831/13831 [==============================] - 25s 2ms/step - loss: 0.3922 - acc: 0.8026 - val_loss: 0.3882 - val_acc: 0.8004\n",
            "Epoch 10/10\n",
            "13831/13831 [==============================] - 25s 2ms/step - loss: 0.3866 - acc: 0.8052 - val_loss: 0.3811 - val_acc: 0.8110\n"
          ],
          "name": "stdout"
        }
      ]
    },
    {
      "cell_type": "code",
      "metadata": {
        "id": "SN8VIHnWj9Rx",
        "colab_type": "code",
        "colab": {
          "base_uri": "https://localhost:8080/",
          "height": 50
        },
        "outputId": "6988d90f-faf7-4ea0-d78c-cd449b2aa682"
      },
      "source": [
        "score = model.evaluate(x_test, y_test, verbose = 0)\n",
        "print('Test score:', score[0])\n",
        "print('Test accuracy:', score[1])"
      ],
      "execution_count": 22,
      "outputs": [
        {
          "output_type": "stream",
          "text": [
            "Test score: 0.3811109394197039\n",
            "Test accuracy: 0.8109700679779053\n"
          ],
          "name": "stdout"
        }
      ]
    },
    {
      "cell_type": "markdown",
      "metadata": {
        "id": "634h10mbfF1E",
        "colab_type": "text"
      },
      "source": [
        "# Sonuçları Değerlendirelim : "
      ]
    },
    {
      "cell_type": "code",
      "metadata": {
        "colab_type": "code",
        "id": "bzauyMHWlpI-",
        "colab": {
          "base_uri": "https://localhost:8080/",
          "height": 320
        },
        "outputId": "cad6c4cd-363f-4f09-ee63-83fc20a62333"
      },
      "source": [
        "plt.style.use('ggplot')\n",
        "\n",
        "fig, ax = plt.subplots(2, 1, figsize=(12,5))\n",
        "ax[0].plot(history.history['loss'], label=\"Training loss\")\n",
        "ax[0].plot(history.history['val_loss'], label=\"Validation loss\",axes =ax[0])\n",
        "ax[0].grid(color='black', linestyle='-', linewidth=0.25)\n",
        "legend = ax[0].legend(loc='best', shadow=True)\n",
        "\n",
        "ax[1].plot(history.history['acc'], label=\"Training accuracy\")\n",
        "ax[1].plot(history.history['val_acc'], label=\"Validation accuracy\")\n",
        "ax[1].grid(color='black', linestyle='-', linewidth=0.25)\n",
        "legend = ax[1].legend(loc='best', shadow=True)"
      ],
      "execution_count": 23,
      "outputs": [
        {
          "output_type": "display_data",
          "data": {
            "image/png": "[encoded data removed]",
            "text/plain": [
              "<Figure size 864x360 with 2 Axes>"
            ]
          },
          "metadata": {
            "tags": []
          }
        }
      ]
    },
    {
      "cell_type": "code",
      "metadata": {
        "id": "J2D-yi9CzRvp",
        "colab_type": "code",
        "colab": {
          "base_uri": "https://localhost:8080/",
          "height": 391
        },
        "outputId": "e7b9ac81-7240-42c4-fa66-12c31a9f71d3"
      },
      "source": [
        "y_pred = model.predict(x_test)\n",
        "\n",
        "y_test_class = np.argmax(y_test, axis=1)\n",
        "y_pred_class = np.argmax(y_pred, axis=1)\n",
        "\n",
        "cm = confusion_matrix(y_test_class, y_pred_class)\n",
        "\n",
        "fig, ax = plot_confusion_matrix(conf_mat=cm,\n",
        "                                show_normed=True,\n",
        "                                figsize =(6,6))"
      ],
      "execution_count": 24,
      "outputs": [
        {
          "output_type": "display_data",
          "data": {
            "image/png": "[encoded data removed]",
            "text/plain": [
              "<Figure size 432x432 with 1 Axes>"
            ]
          },
          "metadata": {
            "tags": []
          }
        }
      ]
    }
  ]
}